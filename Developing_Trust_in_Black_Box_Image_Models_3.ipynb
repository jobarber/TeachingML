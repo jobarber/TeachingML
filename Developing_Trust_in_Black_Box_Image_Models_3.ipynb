{
  "nbformat": 4,
  "nbformat_minor": 0,
  "metadata": {
    "colab": {
      "provenance": []
    },
    "kernelspec": {
      "name": "python3",
      "display_name": "Python 3"
    },
    "accelerator": "GPU"
  },
  "cells": [
    {
      "cell_type": "markdown",
      "metadata": {
        "id": "MCq_l7abtGUQ"
      },
      "source": [
        "# Developing Trust in Predictions on Images with a Neural Network\n",
        "\n",
        "I have created a model below that predicts whether an image is iconographic (1) or not (0)? We'll think together and do some coding that might help during EHL."
      ]
    },
    {
      "cell_type": "markdown",
      "metadata": {
        "id": "QmYXYZ0MtrXC"
      },
      "source": [
        "## Make the necessary imports"
      ]
    },
    {
      "cell_type": "code",
      "metadata": {
        "id": "N5Bs1gcebQZk"
      },
      "source": [
        "from io import BytesIO\n",
        "import zipfile\n",
        "\n",
        "import cv2\n",
        "import matplotlib.pyplot as plt\n",
        "import numpy as np\n",
        "import pandas as pd\n",
        "import requests\n",
        "\n",
        "from PIL import Image\n",
        "from skimage.segmentation import mark_boundaries\n",
        "from tensorflow.keras.callbacks import EarlyStopping\n",
        "from tensorflow.keras.layers import BatchNormalization, Conv2D, Dense, Dropout, Embedding, Flatten, LSTM, MaxPool2D\n",
        "from tensorflow.keras.models import Sequential\n",
        "from tensorflow.keras.preprocessing.image import ImageDataGenerator\n",
        "from tensorflow.keras.preprocessing.sequence import pad_sequences\n",
        "from tensorflow.keras.preprocessing.text import Tokenizer\n",
        "from tensorflow.keras import regularizers"
      ],
      "execution_count": null,
      "outputs": []
    },
    {
      "cell_type": "markdown",
      "metadata": {
        "id": "TafbMXvZt0ce"
      },
      "source": [
        "## Download and resize the images"
      ]
    },
    {
      "cell_type": "markdown",
      "metadata": {
        "id": "s4ShEFcAYiIK"
      },
      "source": [
        "### We want all the images to be the same size without much distortion"
      ]
    },
    {
      "cell_type": "code",
      "metadata": {
        "id": "0YHHktFad38P"
      },
      "source": [
        "def resize(image, size=128):\n",
        "    # initialize the dimensions of the image to be resized and\n",
        "    # grab the image size\n",
        "    (h, w) = image.size[:2]\n",
        "\n",
        "    # resize the image\n",
        "    desired_size = size\n",
        "    ratio = float(desired_size) / max(image.size[:2])\n",
        "    new_size = tuple([int(x * ratio) for x in image.size[:2]])\n",
        "\n",
        "    # new_size should be in (width, height) format\n",
        "    image = cv2.resize(np.asarray(image), (new_size[1], new_size[0]))\n",
        "\n",
        "    delta_w = desired_size - new_size[1]\n",
        "    delta_h = desired_size - new_size[0]\n",
        "    top, bottom = delta_h // 2, delta_h - (delta_h // 2)\n",
        "    left, right = delta_w // 2, delta_w - (delta_w // 2)\n",
        "\n",
        "    color = np.random.randint(0, 256, (3,)).tolist()\n",
        "    resized = cv2.copyMakeBorder(image, top, bottom, left, right,\n",
        "                                 cv2.BORDER_CONSTANT, value=color)\n",
        "\n",
        "    return resized"
      ],
      "execution_count": null,
      "outputs": []
    },
    {
      "cell_type": "markdown",
      "metadata": {
        "id": "FrMQmhPPYmbS"
      },
      "source": [
        "### We need to download the images and unzip their directories"
      ]
    },
    {
      "cell_type": "code",
      "metadata": {
        "id": "dz-oNbTBcymk"
      },
      "source": [
        "def download_normed_images(url, size=128):\n",
        "    zipped_dataset_response = requests.get(url)\n",
        "    zip_file = zipfile.ZipFile(BytesIO(zipped_dataset_response.content))\n",
        "    filenames = zip_file.namelist()\n",
        "    images = []\n",
        "    for filename in filenames:\n",
        "        with zip_file.open(filename) as f:\n",
        "            try:\n",
        "                image = Image.open(BytesIO(f.read()))\n",
        "            except OSError:\n",
        "                continue\n",
        "        resized = resize(image, size=size)\n",
        "        if resized.shape[-1] in (1, 3):\n",
        "            images.append(resized)\n",
        "    return images"
      ],
      "execution_count": null,
      "outputs": []
    },
    {
      "cell_type": "markdown",
      "metadata": {
        "id": "6IYF5Qe2Zm4E"
      },
      "source": [
        "### Now download the four different datasets"
      ]
    },
    {
      "cell_type": "code",
      "metadata": {
        "id": "aB5IU69pbfga",
        "outputId": "c3096ef4-7da1-41cb-cb8e-c9a4b7b70b27",
        "colab": {
          "base_uri": "https://localhost:8080/",
          "height": 141
        }
      },
      "source": [
        "painting_valid_url = 'https://www.dropbox.com/s/geu6zm8ik2joj0m/painting_valid.zip?dl=1'\n",
        "painting_valid_images = download_normed_images(painting_valid_url, size=128)\n",
        "\n",
        "painting_url = 'https://www.dropbox.com/s/2rcl4tg9s0ev1cx/painting.zip?dl=1'\n",
        "painting_images = download_normed_images(painting_url, size=128)\n",
        "\n",
        "iconography_valid_url = 'https://www.dropbox.com/s/2hlepqfwrpve4kp/iconography_valid.zip?dl=1'\n",
        "iconography_valid_images = download_normed_images(iconography_valid_url, size=128)\n",
        "\n",
        "iconography_url = 'https://www.dropbox.com/s/sctg7k8vklavzly/iconography.zip?dl=1'\n",
        "iconography_images = download_normed_images(iconography_url, size=128)"
      ],
      "execution_count": null,
      "outputs": [
        {
          "output_type": "stream",
          "text": [
            "/usr/local/lib/python3.6/dist-packages/PIL/TiffImagePlugin.py:725: UserWarning: Possibly corrupt EXIF data.  Expecting to read 6029312 bytes but only got 0. Skipping tag 0\n",
            "  \" Skipping tag %s\" % (size, len(data), tag))\n",
            "/usr/local/lib/python3.6/dist-packages/PIL/TiffImagePlugin.py:725: UserWarning: Possibly corrupt EXIF data.  Expecting to read 1311848 bytes but only got 785. Skipping tag 0\n",
            "  \" Skipping tag %s\" % (size, len(data), tag))\n",
            "/usr/local/lib/python3.6/dist-packages/PIL/TiffImagePlugin.py:742: UserWarning: Corrupt EXIF data.  Expecting to read 12 bytes but only got 8. \n",
            "  warnings.warn(str(msg))\n"
          ],
          "name": "stderr"
        }
      ]
    },
    {
      "cell_type": "code",
      "metadata": {
        "id": "DFzOPCR5fV_K"
      },
      "source": [
        "Image.fromarray(iconography_images[4])"
      ],
      "execution_count": null,
      "outputs": []
    },
    {
      "cell_type": "markdown",
      "metadata": {
        "id": "ZFczotI_uA4p"
      },
      "source": [
        "## Create X and y from the images and the `Tree` column"
      ]
    },
    {
      "cell_type": "markdown",
      "metadata": {
        "id": "UDXimGfNuLGk"
      },
      "source": [
        "### Reduce the scale of X from (0, 255) to (0, 1) and change images to numpy arrays"
      ]
    },
    {
      "cell_type": "code",
      "metadata": {
        "id": "Z6h0BSruii5b"
      },
      "source": [
        "train_X = np.append(painting_images, iconography_images, axis=0) / 256\n",
        "train_y = np.array([0 for im in painting_images] +\n",
        "                   [1 for im in iconography_images]).reshape(-1, 1)\n",
        "indices = np.arange(0, train_y.shape[0])\n",
        "np.random.shuffle(indices)\n",
        "train_X = np.array([train_X[i] for i in indices])\n",
        "train_y = np.array([train_y[i] for i in indices])\n",
        "\n",
        "\n",
        "valid_X = np.append(painting_valid_images, iconography_valid_images, axis=0) / 256\n",
        "valid_y = np.array([0 for im in painting_valid_images] +\n",
        "                   [1 for im in iconography_valid_images]).reshape(-1, 1)\n",
        "indices = np.arange(0, valid_y.shape[0])\n",
        "np.random.shuffle(indices)\n",
        "valid_X = np.array([valid_X[i] for i in indices])\n",
        "valid_y = np.array([valid_y[i] for i in indices])"
      ],
      "execution_count": null,
      "outputs": []
    },
    {
      "cell_type": "code",
      "metadata": {
        "id": "MBmhrkUXwqtv",
        "outputId": "133dce20-028a-4104-ada9-1070b264e471",
        "colab": {
          "base_uri": "https://localhost:8080/",
          "height": 35
        }
      },
      "source": [
        "train_X.shape"
      ],
      "execution_count": null,
      "outputs": [
        {
          "output_type": "execute_result",
          "data": {
            "text/plain": [
              "(4114, 128, 128, 3)"
            ]
          },
          "metadata": {
            "tags": []
          },
          "execution_count": 7
        }
      ]
    },
    {
      "cell_type": "markdown",
      "metadata": {
        "id": "89Qh0ER8ugiD"
      },
      "source": [
        "## Create the convolutional model"
      ]
    },
    {
      "cell_type": "code",
      "metadata": {
        "id": "UK01L1OXgP9g",
        "outputId": "57cd1b62-a157-4259-cab1-e463ba654e30",
        "colab": {
          "base_uri": "https://localhost:8080/",
          "height": 106
        }
      },
      "source": [
        "# This model is loosely modeled after AlexNet\n",
        "\n",
        "model = Sequential()\n",
        "\n",
        "# Conv Layer 1\n",
        "model.add(Conv2D(96, kernel_size=(11, 11), strides=(4, 4), padding='valid', activation='relu',\n",
        "                 input_shape=(128, 128, 3)))\n",
        "model.add(BatchNormalization())\n",
        "model.add(MaxPool2D(pool_size=(2, 2), strides=(2, 2), padding='valid'))\n",
        "\n",
        "# Conv Layer 2\n",
        "model.add(Conv2D(256, kernel_size=(5, 5), strides=1, padding='valid', activation='relu'))\n",
        "model.add(BatchNormalization())\n",
        "\n",
        "# Conv Layer 3\n",
        "model.add(Conv2D(384, kernel_size=(3, 3), strides=1, padding='valid', activation='relu'))\n",
        "model.add(BatchNormalization())\n",
        "\n",
        "# Conv Layer 4\n",
        "model.add(Conv2D(384, kernel_size=(3, 3), strides=1, padding='same', activation='relu'))\n",
        "model.add(BatchNormalization())\n",
        "\n",
        "# Conv Layer 5\n",
        "model.add(Conv2D(256, kernel_size=3, strides=(2, 2), padding='valid', activation='relu'))\n",
        "model.add(BatchNormalization())\n",
        "model.add(MaxPool2D(pool_size=(2, 2), strides=(2, 2)))\n",
        "model.add(Dropout(0.4))\n",
        "\n",
        "model.add(Flatten())\n",
        "\n",
        "# Dense layer 1\n",
        "model.add(Dense(4096, activation='relu'))\n",
        "\n",
        "# Dense layer 2\n",
        "model.add(Dense(4096, activation='relu'))\n",
        "model.add(Dropout(0.4))\n",
        "\n",
        "# Output\n",
        "model.add(Dense(1, activation='sigmoid'))"
      ],
      "execution_count": null,
      "outputs": [
        {
          "output_type": "stream",
          "text": [
            "WARNING: Logging before flag parsing goes to stderr.\n",
            "W0624 19:54:32.807276 139711375857536 deprecation.py:506] From /usr/local/lib/python3.6/dist-packages/tensorflow/python/ops/init_ops.py:1251: calling VarianceScaling.__init__ (from tensorflow.python.ops.init_ops) with dtype is deprecated and will be removed in a future version.\n",
            "Instructions for updating:\n",
            "Call initializer instance with the dtype argument instead of passing it to the constructor\n"
          ],
          "name": "stderr"
        }
      ]
    },
    {
      "cell_type": "code",
      "metadata": {
        "id": "geKMxHgMmAVK",
        "outputId": "0f9a4a64-8ada-4332-8ebb-329f5c846c3f",
        "colab": {
          "base_uri": "https://localhost:8080/",
          "height": 777
        }
      },
      "source": [
        "model.summary()"
      ],
      "execution_count": null,
      "outputs": [
        {
          "output_type": "stream",
          "text": [
            "Model: \"sequential\"\n",
            "_________________________________________________________________\n",
            "Layer (type)                 Output Shape              Param #   \n",
            "=================================================================\n",
            "conv2d (Conv2D)              (None, 30, 30, 96)        34944     \n",
            "_________________________________________________________________\n",
            "batch_normalization (BatchNo (None, 30, 30, 96)        384       \n",
            "_________________________________________________________________\n",
            "max_pooling2d (MaxPooling2D) (None, 15, 15, 96)        0         \n",
            "_________________________________________________________________\n",
            "conv2d_1 (Conv2D)            (None, 11, 11, 256)       614656    \n",
            "_________________________________________________________________\n",
            "batch_normalization_1 (Batch (None, 11, 11, 256)       1024      \n",
            "_________________________________________________________________\n",
            "conv2d_2 (Conv2D)            (None, 9, 9, 384)         885120    \n",
            "_________________________________________________________________\n",
            "batch_normalization_2 (Batch (None, 9, 9, 384)         1536      \n",
            "_________________________________________________________________\n",
            "conv2d_3 (Conv2D)            (None, 9, 9, 384)         1327488   \n",
            "_________________________________________________________________\n",
            "batch_normalization_3 (Batch (None, 9, 9, 384)         1536      \n",
            "_________________________________________________________________\n",
            "conv2d_4 (Conv2D)            (None, 4, 4, 256)         884992    \n",
            "_________________________________________________________________\n",
            "batch_normalization_4 (Batch (None, 4, 4, 256)         1024      \n",
            "_________________________________________________________________\n",
            "max_pooling2d_1 (MaxPooling2 (None, 2, 2, 256)         0         \n",
            "_________________________________________________________________\n",
            "dropout (Dropout)            (None, 2, 2, 256)         0         \n",
            "_________________________________________________________________\n",
            "flatten (Flatten)            (None, 1024)              0         \n",
            "_________________________________________________________________\n",
            "dense (Dense)                (None, 4096)              4198400   \n",
            "_________________________________________________________________\n",
            "dense_1 (Dense)              (None, 4096)              16781312  \n",
            "_________________________________________________________________\n",
            "dropout_1 (Dropout)          (None, 4096)              0         \n",
            "_________________________________________________________________\n",
            "dense_2 (Dense)              (None, 1)                 4097      \n",
            "=================================================================\n",
            "Total params: 24,736,513\n",
            "Trainable params: 24,733,761\n",
            "Non-trainable params: 2,752\n",
            "_________________________________________________________________\n"
          ],
          "name": "stdout"
        }
      ]
    },
    {
      "cell_type": "code",
      "metadata": {
        "id": "gQlXaLgLmCBh",
        "outputId": "74833a9b-6af0-4abe-c44e-0dabb9a3a3a8",
        "colab": {
          "base_uri": "https://localhost:8080/",
          "height": 89
        }
      },
      "source": [
        "model.compile('adam', loss='binary_crossentropy', metrics=['accuracy'])"
      ],
      "execution_count": null,
      "outputs": [
        {
          "output_type": "stream",
          "text": [
            "W0624 19:54:33.314019 139711375857536 deprecation.py:323] From /usr/local/lib/python3.6/dist-packages/tensorflow/python/ops/nn_impl.py:180: add_dispatch_support.<locals>.wrapper (from tensorflow.python.ops.array_ops) is deprecated and will be removed in a future version.\n",
            "Instructions for updating:\n",
            "Use tf.where in 2.0, which has the same broadcast rule as np.where\n"
          ],
          "name": "stderr"
        }
      ]
    },
    {
      "cell_type": "markdown",
      "metadata": {
        "id": "pJXi1yHeuooZ"
      },
      "source": [
        "## Create several thousand image variations from our corpus\n",
        "This `ImageDataGenerator` instance is a generator, which means the images are produced at runtime. This effectively makes our 4000+ images into several thousand images with a number of variations."
      ]
    },
    {
      "cell_type": "code",
      "metadata": {
        "id": "fqYXk9uXVplV"
      },
      "source": [
        "datagen = ImageDataGenerator(\n",
        "    shear_range=0.01,\n",
        "    zoom_range=[0.9, 1.2],\n",
        "    brightness_range=[0.9, 1.1],\n",
        "    samplewise_center=True,\n",
        "    samplewise_std_normalization=True,\n",
        "    width_shift_range=0.2,\n",
        "    height_shift_range=0.2,\n",
        "    horizontal_flip=True,\n",
        "    rotation_range=10,\n",
        "    fill_mode='constant')\n",
        "\n",
        "datagen.fit(train_X)"
      ],
      "execution_count": null,
      "outputs": []
    },
    {
      "cell_type": "markdown",
      "metadata": {
        "id": "7Uqr0ChtvBdL"
      },
      "source": [
        "## Fit the model on the data generator"
      ]
    },
    {
      "cell_type": "code",
      "metadata": {
        "id": "2z9Hq3SzmZWh",
        "outputId": "d866df3c-975f-4ade-962b-53bdca129fe9",
        "colab": {
          "base_uri": "https://localhost:8080/",
          "height": 415
        }
      },
      "source": [
        "model.fit_generator(datagen.flow(train_X, train_y, batch_size=64), steps_per_epoch=train_X.shape[0] * 3 / 64,\n",
        "                    epochs=12, validation_data=(valid_X, valid_y),\n",
        "                    callbacks=[EarlyStopping('val_loss', patience=8, restore_best_weights=True,)])"
      ],
      "execution_count": null,
      "outputs": [
        {
          "output_type": "stream",
          "text": [
            "Epoch 1/12\n",
            "193/192 [==============================] - 48s 248ms/step - loss: 0.6253 - acc: 0.8284 - val_loss: 1.1831 - val_acc: 0.4684\n",
            "Epoch 2/12\n",
            "193/192 [==============================] - 44s 227ms/step - loss: 0.2652 - acc: 0.8931 - val_loss: 3.5930 - val_acc: 0.4967\n",
            "Epoch 3/12\n",
            "193/192 [==============================] - 44s 228ms/step - loss: 0.2338 - acc: 0.9081 - val_loss: 0.4564 - val_acc: 0.7930\n",
            "Epoch 4/12\n",
            "193/192 [==============================] - 44s 226ms/step - loss: 0.1821 - acc: 0.9297 - val_loss: 3.2601 - val_acc: 0.4967\n",
            "Epoch 5/12\n",
            "193/192 [==============================] - 44s 227ms/step - loss: 0.1697 - acc: 0.9355 - val_loss: 2.3063 - val_acc: 0.4989\n",
            "Epoch 6/12\n",
            "193/192 [==============================] - 44s 227ms/step - loss: 0.1463 - acc: 0.9431 - val_loss: 3.3136 - val_acc: 0.5142\n",
            "Epoch 7/12\n",
            "193/192 [==============================] - 44s 227ms/step - loss: 0.1303 - acc: 0.9514 - val_loss: 0.8939 - val_acc: 0.6623\n",
            "Epoch 8/12\n",
            "193/192 [==============================] - 44s 227ms/step - loss: 0.1361 - acc: 0.9488 - val_loss: 1.5936 - val_acc: 0.5403\n",
            "Epoch 9/12\n",
            "193/192 [==============================] - 44s 226ms/step - loss: 0.1172 - acc: 0.9562 - val_loss: 3.6327 - val_acc: 0.4989\n",
            "Epoch 10/12\n",
            "193/192 [==============================] - 44s 226ms/step - loss: 0.1037 - acc: 0.9590 - val_loss: 1.9856 - val_acc: 0.6122\n",
            "Epoch 11/12\n",
            "193/192 [==============================] - 44s 229ms/step - loss: 0.1022 - acc: 0.9630 - val_loss: 1.6554 - val_acc: 0.5643\n"
          ],
          "name": "stdout"
        },
        {
          "output_type": "execute_result",
          "data": {
            "text/plain": [
              "<tensorflow.python.keras.callbacks.History at 0x7f10b8eba908>"
            ]
          },
          "metadata": {
            "tags": []
          },
          "execution_count": 12
        }
      ]
    },
    {
      "cell_type": "markdown",
      "metadata": {
        "id": "j37ZJBIMxERD"
      },
      "source": [
        "## Evaluate the model on our \"original\" images (which are essentially unseen at this point)"
      ]
    },
    {
      "cell_type": "code",
      "metadata": {
        "id": "QmZztvshhqK6",
        "outputId": "74eefb34-74aa-4f1f-f7c3-6ce31f28efdc",
        "colab": {
          "base_uri": "https://localhost:8080/",
          "height": 52
        }
      },
      "source": [
        "model.evaluate(x=valid_X, y=valid_y, batch_size=32)"
      ],
      "execution_count": null,
      "outputs": [
        {
          "output_type": "stream",
          "text": [
            "459/459 [==============================] - 0s 821us/sample - loss: 0.4633 - acc: 0.7930\n"
          ],
          "name": "stdout"
        },
        {
          "output_type": "execute_result",
          "data": {
            "text/plain": [
              "[0.46328471364019225, 0.7930283]"
            ]
          },
          "metadata": {
            "tags": []
          },
          "execution_count": 13
        }
      ]
    },
    {
      "cell_type": "markdown",
      "metadata": {
        "id": "KM3jel7exQhR"
      },
      "source": [
        "## Use the model to make a prediction"
      ]
    },
    {
      "cell_type": "code",
      "metadata": {
        "id": "hA1tUC6OxmrM",
        "outputId": "9aac1507-c9a3-40c0-86f9-2b5acc1fa5c3",
        "colab": {
          "base_uri": "https://localhost:8080/",
          "height": 145
        }
      },
      "source": [
        "Image.fromarray((train_X[28] * 256).astype(np.uint8))"
      ],
      "execution_count": null,
      "outputs": [
        {
          "output_type": "execute_result",
          "data": {
            "image/png": "[encoded data removed]",
            "text/plain": [
              "<PIL.Image.Image image mode=RGB size=128x128 at 0x7F105C164630>"
            ]
          },
          "metadata": {
            "tags": []
          },
          "execution_count": 14
        }
      ]
    },
    {
      "cell_type": "code",
      "metadata": {
        "id": "c__KloIVxTzq",
        "outputId": "822a54f2-af9d-442b-9a8a-cc0373cc2574",
        "colab": {
          "base_uri": "https://localhost:8080/",
          "height": 52
        }
      },
      "source": [
        "p = model.predict([[train_X[28]]])\n",
        "a = train_y[28]\n",
        "print('predicted:', p, '\\nactual:', a)  # 1.0 == iconography; 0.0 == painting"
      ],
      "execution_count": null,
      "outputs": [
        {
          "output_type": "stream",
          "text": [
            "predicted: [[0.8194155]] \n",
            "actual: [0]\n"
          ],
          "name": "stdout"
        }
      ]
    },
    {
      "cell_type": "markdown",
      "metadata": {
        "id": "fNF-Eoy1wVmn"
      },
      "source": [
        "## Explain the prediction"
      ]
    },
    {
      "cell_type": "code",
      "metadata": {
        "id": "SQ-WLRUawQ_l",
        "colab": {
          "base_uri": "https://localhost:8080/",
          "height": 365
        },
        "outputId": "2d788649-479a-46e4-89a2-8a1ce65d56f4"
      },
      "source": [
        "!pip install lime"
      ],
      "execution_count": null,
      "outputs": [
        {
          "output_type": "stream",
          "text": [
            "Requirement already satisfied: lime in /usr/local/lib/python3.6/dist-packages (0.1.1.34)\n",
            "Requirement already satisfied: scikit-learn>=0.18 in /usr/local/lib/python3.6/dist-packages (from lime) (0.21.2)\n",
            "Requirement already satisfied: numpy in /usr/local/lib/python3.6/dist-packages (from lime) (1.16.4)\n",
            "Requirement already satisfied: scipy in /usr/local/lib/python3.6/dist-packages (from lime) (1.3.0)\n",
            "Requirement already satisfied: matplotlib; python_version >= \"3.0\" in /usr/local/lib/python3.6/dist-packages (from lime) (3.0.3)\n",
            "Requirement already satisfied: scikit-image>=0.12; python_version >= \"3.0\" in /usr/local/lib/python3.6/dist-packages (from lime) (0.15.0)\n",
            "Requirement already satisfied: joblib>=0.11 in /usr/local/lib/python3.6/dist-packages (from scikit-learn>=0.18->lime) (0.13.2)\n",
            "Requirement already satisfied: cycler>=0.10 in /usr/local/lib/python3.6/dist-packages (from matplotlib; python_version >= \"3.0\"->lime) (0.10.0)\n",
            "Requirement already satisfied: pyparsing!=2.0.4,!=2.1.2,!=2.1.6,>=2.0.1 in /usr/local/lib/python3.6/dist-packages (from matplotlib; python_version >= \"3.0\"->lime) (2.4.0)\n",
            "Requirement already satisfied: python-dateutil>=2.1 in /usr/local/lib/python3.6/dist-packages (from matplotlib; python_version >= \"3.0\"->lime) (2.5.3)\n",
            "Requirement already satisfied: kiwisolver>=1.0.1 in /usr/local/lib/python3.6/dist-packages (from matplotlib; python_version >= \"3.0\"->lime) (1.1.0)\n",
            "Requirement already satisfied: pillow>=4.3.0 in /usr/local/lib/python3.6/dist-packages (from scikit-image>=0.12; python_version >= \"3.0\"->lime) (4.3.0)\n",
            "Requirement already satisfied: PyWavelets>=0.4.0 in /usr/local/lib/python3.6/dist-packages (from scikit-image>=0.12; python_version >= \"3.0\"->lime) (1.0.3)\n",
            "Requirement already satisfied: networkx>=2.0 in /usr/local/lib/python3.6/dist-packages (from scikit-image>=0.12; python_version >= \"3.0\"->lime) (2.3)\n",
            "Requirement already satisfied: imageio>=2.0.1 in /usr/local/lib/python3.6/dist-packages (from scikit-image>=0.12; python_version >= \"3.0\"->lime) (2.4.1)\n",
            "Requirement already satisfied: six in /usr/local/lib/python3.6/dist-packages (from cycler>=0.10->matplotlib; python_version >= \"3.0\"->lime) (1.12.0)\n",
            "Requirement already satisfied: setuptools in /usr/local/lib/python3.6/dist-packages (from kiwisolver>=1.0.1->matplotlib; python_version >= \"3.0\"->lime) (41.0.1)\n",
            "Requirement already satisfied: olefile in /usr/local/lib/python3.6/dist-packages (from pillow>=4.3.0->scikit-image>=0.12; python_version >= \"3.0\"->lime) (0.46)\n",
            "Requirement already satisfied: decorator>=4.3.0 in /usr/local/lib/python3.6/dist-packages (from networkx>=2.0->scikit-image>=0.12; python_version >= \"3.0\"->lime) (4.4.0)\n"
          ],
          "name": "stdout"
        }
      ]
    },
    {
      "cell_type": "code",
      "metadata": {
        "id": "X2MyJKH0wvSF"
      },
      "source": [
        "from lime import lime_image"
      ],
      "execution_count": null,
      "outputs": []
    },
    {
      "cell_type": "code",
      "metadata": {
        "id": "yKvEyl4GxAnT"
      },
      "source": [
        "explainer = lime_image.LimeImageExplainer()"
      ],
      "execution_count": null,
      "outputs": []
    },
    {
      "cell_type": "code",
      "metadata": {
        "id": "78p8v7cxxOf8"
      },
      "source": [
        "explanation = explainer.explain_instance(train_X[27], model.predict, num_samples=50)"
      ],
      "execution_count": null,
      "outputs": []
    },
    {
      "cell_type": "code",
      "metadata": {
        "id": "dBUHFEhRyO6z",
        "colab": {
          "base_uri": "https://localhost:8080/",
          "height": 145
        },
        "outputId": "9eea359f-b394-4d62-94d4-a56ef5e6f823"
      },
      "source": [
        "Image.fromarray((train_X[27] * 256).astype(np.uint8))"
      ],
      "execution_count": null,
      "outputs": [
        {
          "output_type": "execute_result",
          "data": {
            "image/png": "[encoded data removed]",
            "text/plain": [
              "<PIL.Image.Image image mode=RGB size=128x128 at 0x7F10B47D4B00>"
            ]
          },
          "metadata": {
            "tags": []
          },
          "execution_count": 20
        }
      ]
    },
    {
      "cell_type": "code",
      "metadata": {
        "id": "X1wIiEQPybDL"
      },
      "source": [
        "import matplotlib.pyplot as plt"
      ],
      "execution_count": null,
      "outputs": []
    },
    {
      "cell_type": "code",
      "metadata": {
        "id": "zQtxhJuzyykG",
        "colab": {
          "base_uri": "https://localhost:8080/",
          "height": 35
        },
        "outputId": "4aba13a6-b2aa-4f68-f773-eb30e03aa771"
      },
      "source": [
        "explanation.top_labels[0]"
      ],
      "execution_count": null,
      "outputs": [
        {
          "output_type": "execute_result",
          "data": {
            "text/plain": [
              "0"
            ]
          },
          "metadata": {
            "tags": []
          },
          "execution_count": 22
        }
      ]
    },
    {
      "cell_type": "code",
      "metadata": {
        "id": "UfDrpgXVynKX",
        "colab": {
          "base_uri": "https://localhost:8080/",
          "height": 286
        },
        "outputId": "de5c81b4-3b44-494b-8b46-7408331ba66b"
      },
      "source": [
        "temp, mask = explanation.get_image_and_mask(explanation.top_labels[0], positive_only=False, num_features=1, hide_rest=False)\n",
        "plt.imshow(mark_boundaries(temp / 2 + 0.5, mask))"
      ],
      "execution_count": null,
      "outputs": [
        {
          "output_type": "execute_result",
          "data": {
            "text/plain": [
              "<matplotlib.image.AxesImage at 0x7f0fb88904e0>"
            ]
          },
          "metadata": {
            "tags": []
          },
          "execution_count": 23
        },
        {
          "output_type": "display_data",
          "data": {
            "image/png": "[encoded data removed]",
            "text/plain": [
              "<Figure size 432x288 with 1 Axes>"
            ]
          },
          "metadata": {
            "tags": []
          }
        }
      ]
    },
    {
      "cell_type": "code",
      "metadata": {
        "id": "B6QnxWuTzLPw"
      },
      "source": [
        "from lime import lime_text"
      ],
      "execution_count": null,
      "outputs": []
    },
    {
      "cell_type": "code",
      "metadata": {
        "id": "9rHVgkWt16Uj"
      },
      "source": [],
      "execution_count": null,
      "outputs": []
    }
  ]
}