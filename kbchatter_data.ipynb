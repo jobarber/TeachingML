{
  "nbformat": 4,
  "nbformat_minor": 0,
  "metadata": {
    "colab": {
      "provenance": []
    },
    "kernelspec": {
      "name": "python3",
      "display_name": "Python 3"
    },
    "language_info": {
      "name": "python"
    }
  },
  "cells": [
    {
      "cell_type": "code",
      "metadata": {
        "id": "eMcfbg0lOuwK"
      },
      "source": [
        "import pandas as pd"
      ],
      "execution_count": null,
      "outputs": []
    },
    {
      "cell_type": "code",
      "metadata": {
        "id": "nsjOPM9gOyTt"
      },
      "source": [
        "df = pd.read_csv('https://kbchatter.s3.amazonaws.com/scraped_data/slack/slack_tips_qa_nodup_answer_start.csv')"
      ],
      "execution_count": null,
      "outputs": []
    },
    {
      "cell_type": "code",
      "metadata": {
        "colab": {
          "base_uri": "https://localhost:8080/",
          "height": 407
        },
        "id": "pMWCJAauOz-4",
        "outputId": "5686399d-7ff3-4360-dff6-4f8ea9425af2"
      },
      "source": [
        "df"
      ],
      "execution_count": null,
      "outputs": [
        {
          "output_type": "execute_result",
          "data": {
            "text/html": [
              "<div>\n",
              "<style scoped>\n",
              "    .dataframe tbody tr th:only-of-type {\n",
              "        vertical-align: middle;\n",
              "    }\n",
              "\n",
              "    .dataframe tbody tr th {\n",
              "        vertical-align: top;\n",
              "    }\n",
              "\n",
              "    .dataframe thead th {\n",
              "        text-align: right;\n",
              "    }\n",
              "</style>\n",
              "<table border=\"1\" class=\"dataframe\">\n",
              "  <thead>\n",
              "    <tr style=\"text-align: right;\">\n",
              "      <th></th>\n",
              "      <th>Question</th>\n",
              "      <th>Answer</th>\n",
              "      <th>Context</th>\n",
              "      <th>answer_start</th>\n",
              "    </tr>\n",
              "  </thead>\n",
              "  <tbody>\n",
              "    <tr>\n",
              "      <th>0</th>\n",
              "      <td>What’s Send email to Slack handy for?</td>\n",
              "      <td>Bring emails out of siloed inboxes and into Sl...</td>\n",
              "      <td>What’s Send email to Slack handy for?:Bring em...</td>\n",
              "      <td>37</td>\n",
              "    </tr>\n",
              "    <tr>\n",
              "      <th>1</th>\n",
              "      <td>Send Send email to Slack emails directly from ...</td>\n",
              "      <td>Install the email add-on from Microsoft AppSou...</td>\n",
              "      <td>What’s Send email to Slack handy for?:Bring em...</td>\n",
              "      <td>740</td>\n",
              "    </tr>\n",
              "    <tr>\n",
              "      <th>2</th>\n",
              "      <td>Send Send email to Slack emails into a dedicat...</td>\n",
              "      <td>On Slack’s paid plans, you can create an email...</td>\n",
              "      <td>What’s Send email to Slack handy for?:Bring em...</td>\n",
              "      <td>1672</td>\n",
              "    </tr>\n",
              "    <tr>\n",
              "      <th>3</th>\n",
              "      <td>Send Send email to Slack one email at a time i...</td>\n",
              "      <td>All Slack users (except guests) have the optio...</td>\n",
              "      <td>What’s Send email to Slack handy for?:Bring em...</td>\n",
              "      <td>2618</td>\n",
              "    </tr>\n",
              "    <tr>\n",
              "      <th>4</th>\n",
              "      <td>Send email to Slack  tip uses:</td>\n",
              "      <td>Slack for Outlook</td>\n",
              "      <td>Send email to Slack  tip uses:Slack for Outloo...</td>\n",
              "      <td>29</td>\n",
              "    </tr>\n",
              "    <tr>\n",
              "      <th>...</th>\n",
              "      <td>...</td>\n",
              "      <td>...</td>\n",
              "      <td>...</td>\n",
              "      <td>...</td>\n",
              "    </tr>\n",
              "    <tr>\n",
              "      <th>1112</th>\n",
              "      <td>Get interview feedback on a job candidate Prep</td>\n",
              "      <td>Under 30 mins</td>\n",
              "      <td>Get interview feedback on a job candidate  tip...</td>\n",
              "      <td>105</td>\n",
              "    </tr>\n",
              "    <tr>\n",
              "      <th>1113</th>\n",
              "      <td>Get interview feedback on a job candidate Slac...</td>\n",
              "      <td>Advanced</td>\n",
              "      <td>Get interview feedback on a job candidate  tip...</td>\n",
              "      <td>180</td>\n",
              "    </tr>\n",
              "    <tr>\n",
              "      <th>1114</th>\n",
              "      <td>Get interview feedback on a job candidate Resu...</td>\n",
              "      <td>Faster hiring decisions</td>\n",
              "      <td>Get interview feedback on a job candidate  tip...</td>\n",
              "      <td>240</td>\n",
              "    </tr>\n",
              "    <tr>\n",
              "      <th>1115</th>\n",
              "      <td>Get interview feedback on a job candidate Usef...</td>\n",
              "      <td>Human resources teams, recruiters, hiring man...</td>\n",
              "      <td>Get interview feedback on a job candidate  tip...</td>\n",
              "      <td>319</td>\n",
              "    </tr>\n",
              "    <tr>\n",
              "      <th>1116</th>\n",
              "      <td>Get interview feedback on a job candidate Or u...</td>\n",
              "      <td>Greenhouse</td>\n",
              "      <td>Get interview feedback on a job candidate  tip...</td>\n",
              "      <td>441</td>\n",
              "    </tr>\n",
              "  </tbody>\n",
              "</table>\n",
              "<p>1117 rows × 4 columns</p>\n",
              "</div>"
            ],
            "text/plain": [
              "                                               Question  ... answer_start\n",
              "0                 What’s Send email to Slack handy for?  ...           37\n",
              "1     Send Send email to Slack emails directly from ...  ...          740\n",
              "2     Send Send email to Slack emails into a dedicat...  ...         1672\n",
              "3     Send Send email to Slack one email at a time i...  ...         2618\n",
              "4                        Send email to Slack  tip uses:  ...           29\n",
              "...                                                 ...  ...          ...\n",
              "1112     Get interview feedback on a job candidate Prep  ...          105\n",
              "1113  Get interview feedback on a job candidate Slac...  ...          180\n",
              "1114  Get interview feedback on a job candidate Resu...  ...          240\n",
              "1115  Get interview feedback on a job candidate Usef...  ...          319\n",
              "1116  Get interview feedback on a job candidate Or u...  ...          441\n",
              "\n",
              "[1117 rows x 4 columns]"
            ]
          },
          "metadata": {
            "tags": []
          },
          "execution_count": 4
        }
      ]
    },
    {
      "cell_type": "code",
      "metadata": {
        "colab": {
          "base_uri": "https://localhost:8080/",
          "height": 87
        },
        "id": "6_NP5YdmO-xc",
        "outputId": "08f3f152-c981-4888-a0ee-1ef422d1e00b"
      },
      "source": [
        "df.iloc[1114]['Context']"
      ],
      "execution_count": null,
      "outputs": [
        {
          "output_type": "execute_result",
          "data": {
            "application/vnd.google.colaboratory.intrinsic+json": {
              "type": "string"
            },
            "text/plain": [
              "'Get interview feedback on a job candidate  tip uses:Lever. Get interview feedback on a job candidate Prep:Under 30 mins. Get interview feedback on a job candidate Slack skill level:Advanced. Get interview feedback on a job candidate Results:\\xa0Faster hiring decisions. Get interview feedback on a job candidate Useful for:\\xa0Human resources teams, recruiters, hiring managers. Get interview feedback on a job candidate Or use this recruiting app:Greenhouse. '"
            ]
          },
          "metadata": {
            "tags": []
          },
          "execution_count": 18
        }
      ]
    },
    {
      "cell_type": "code",
      "metadata": {
        "id": "Vd2j_Ou_PCEf"
      },
      "source": [],
      "execution_count": null,
      "outputs": []
    }
  ]
}