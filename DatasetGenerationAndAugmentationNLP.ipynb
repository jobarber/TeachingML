{
  "nbformat": 4,
  "nbformat_minor": 0,
  "metadata": {
    "colab": {
      "provenance": []
    },
    "kernelspec": {
      "name": "python3",
      "display_name": "Python 3"
    },
    "language_info": {
      "name": "python"
    }
  },
  "cells": [
    {
      "cell_type": "markdown",
      "source": [
        "# Dataset Generation and Augmentation for NLP\n",
        "\n",
        "We now have a number of ways in NLP to generate datasets from scratch and to augment datasets."
      ],
      "metadata": {
        "id": "k8Av1a8ejjWz"
      }
    },
    {
      "cell_type": "markdown",
      "source": [
        "## OpenAI GPT3\n",
        "\n",
        "We can generate a dataset using OpenAI's GPT3. Register for an account here:\n",
        "\n",
        "https://beta.openai.com/playground\n",
        "\n",
        "Once you have your API key, you can set the value below."
      ],
      "metadata": {
        "id": "419LsVHJkB3z"
      }
    },
    {
      "cell_type": "code",
      "source": [
        "api_key = '<your API key goes here>'"
      ],
      "metadata": {
        "id": "-TdFe1OpoZoc"
      },
      "execution_count": null,
      "outputs": []
    },
    {
      "cell_type": "code",
      "execution_count": null,
      "metadata": {
        "id": "5IrPukJXjchs"
      },
      "outputs": [],
      "source": [
        "import json\n",
        "import random\n",
        "import re\n",
        "from itertools import chain\n",
        "\n",
        "import requests"
      ]
    },
    {
      "cell_type": "code",
      "source": [
        "random.seed(0)"
      ],
      "metadata": {
        "id": "4nmzGP_L93Hm"
      },
      "execution_count": null,
      "outputs": []
    },
    {
      "cell_type": "markdown",
      "source": [
        "### Create the samples, in this case positive or negative."
      ],
      "metadata": {
        "id": "FCyyoYmYsiPl"
      }
    },
    {
      "cell_type": "code",
      "source": [
        "class DaVinci:\n",
        "\n",
        "  def __init__(self):\n",
        "    self.url = 'https://api.openai.com/v1/completions'\n",
        "    self.headers = {'Content-Type': 'application/json',\n",
        "                    'Authorization': 'Bearer ' + api_key}\n",
        "\n",
        "  def generate(self, prompt, **kwargs):\n",
        "    data = {\n",
        "      \"model\": \"text-davinci-002\",\n",
        "      \"prompt\": prompt,\n",
        "      \"max_tokens\": 256,\n",
        "      \"temperature\": 0.7,\n",
        "      \"top_p\": 1,\n",
        "      \"n\": 1,\n",
        "      \"stream\": False,\n",
        "      \"logprobs\": None,\n",
        "      \"frequency_penalty\": 0,\n",
        "      \"presence_penalty\": 0.5\n",
        "    }\n",
        "    data.update(kwargs)\n",
        "    response = requests.post(self.url, headers=self.headers, data=json.dumps(data))\n",
        "    texts = [t['text'].split('\\n') for t in response.json()['choices']]\n",
        "    return list(t for t in chain.from_iterable(texts) if t)"
      ],
      "metadata": {
        "id": "e-_onTsVlQdA"
      },
      "execution_count": null,
      "outputs": []
    },
    {
      "cell_type": "code",
      "source": [
        "davinci = DaVinci()"
      ],
      "metadata": {
        "id": "qgXRkEzVleEj"
      },
      "execution_count": null,
      "outputs": []
    },
    {
      "cell_type": "code",
      "source": [
        "absence_prompt = '''> Radiologists have a variety of ways of expressing the *presence* of renal masses. Here are 3 examples:\n",
        "\n",
        "1. A 1.2 cm mass exists on the left kidney.\n",
        "2. There is a 1.2 cm right renal lesion.\n",
        "3. A Bosniak cyst appears on the left.\n",
        "\n",
        "> Radiologists have a variety of ways of expressing the *absence* of renal masses. Here are 10 examples:'''"
      ],
      "metadata": {
        "id": "cU1OXZ5vlgXt"
      },
      "execution_count": null,
      "outputs": []
    },
    {
      "cell_type": "code",
      "source": [
        "absence_samples = davinci.generate(absence_prompt, n=9)\n",
        "absence_samples[:10]"
      ],
      "metadata": {
        "colab": {
          "base_uri": "https://localhost:8080/"
        },
        "id": "GIx9ox7cl00M",
        "outputId": "6f8f2193-6b1c-4dc7-8b4d-e487b99e4749"
      },
      "execution_count": null,
      "outputs": [
        {
          "output_type": "execute_result",
          "data": {
            "text/plain": [
              "['1. No renal mass is identified.',\n",
              " '2. There is no evidence of a renal mass.',\n",
              " '3. The kidneys are normal in size and shape without focal lesions.',\n",
              " '4. The right kidney measures 10 cm in length and the left kidney measures 9.5 cm in length. There are no masses.',\n",
              " '5. The kidneys are unremarkable.',\n",
              " '6. The study does not reveal any lesions in the kidneys.',\n",
              " '7. There are no lesions in either kidney.',\n",
              " '8. Both kidneys are free of lesions.',\n",
              " '9. Neither kidney has any lesions.',\n",
              " '10. The kidneys are clear.']"
            ]
          },
          "metadata": {},
          "execution_count": 7
        }
      ]
    },
    {
      "cell_type": "code",
      "source": [
        "# Remove initial enumerations and duplicates, and sort.\n",
        "absence_samples = [re.sub(r'^\\d+\\.\\s*', '', s) for s in absence_samples]\n",
        "absence_samples = sorted(set(s for s in absence_samples if s.strip()))\n",
        "absence_samples[:10]"
      ],
      "metadata": {
        "colab": {
          "base_uri": "https://localhost:8080/"
        },
        "id": "g3T3BsS9l6T6",
        "outputId": "428cdd4a-e666-4b19-c677-809e90ea755f"
      },
      "execution_count": null,
      "outputs": [
        {
          "output_type": "execute_result",
          "data": {
            "text/plain": [
              "['> Radiologists often include information about whether a renal mass is solid, cystic, or both solid and cystic. Here are 3 examples:',\n",
              " 'Both kidneys are free of lesions.',\n",
              " 'Both kidneys are free of mass lesions.',\n",
              " 'Mass is not seen.',\n",
              " 'Masses are not seen in either kidney.',\n",
              " 'Negative for mass.',\n",
              " 'Neither kidney has any lesions.',\n",
              " 'No abnormality is seen.',\n",
              " 'No evidence of mass.',\n",
              " 'No evidence of renal mass.']"
            ]
          },
          "metadata": {},
          "execution_count": 8
        }
      ]
    },
    {
      "cell_type": "code",
      "source": [
        "presence_prompt = '''> Radiologists have a variety of ways of expressing the *absence* of renal masses. Here are 3 examples:\n",
        "\n",
        "1. No renal masses.\n",
        "2. Negative study.\n",
        "3. No evidence of any kidney masses.\n",
        "\n",
        "> Radiologists have a variety of ways of expressing the *presence* of renal masses{include_measurements}. Here are 10 examples:'''"
      ],
      "metadata": {
        "id": "hpn58BGqn1k9"
      },
      "execution_count": null,
      "outputs": []
    },
    {
      "cell_type": "code",
      "source": [
        "presence_samples = davinci.generate(presence_prompt.format(include_measurements=', which often includes a measurement'), n=8)\n",
        "presence_samples += davinci.generate(presence_prompt.format(include_measurements=''), n=1)\n",
        "presence_samples[:10]"
      ],
      "metadata": {
        "colab": {
          "base_uri": "https://localhost:8080/"
        },
        "id": "EdiwBbldqMCJ",
        "outputId": "c79b7866-46c0-4ccc-cd17-c9d4318efd95"
      },
      "execution_count": null,
      "outputs": [
        {
          "output_type": "execute_result",
          "data": {
            "text/plain": [
              "['1. Renal mass measuring 3.2 x 2.6 cm.',\n",
              " '2. 3.2 x 2.6 cm renal mass.',\n",
              " '3. Right renal mass measuring 3.2 x 2.6 cm.',\n",
              " '4. Left renal mass, 3.2 x 2.6 cm.',\n",
              " '5. Bilobar renal mass, maximum dimension 6.1 cm.',\n",
              " '6. 3.2 cm renal mass in the left kidney.',\n",
              " '7. Complex cystic renal mass, 6.1 x 4.5 x 4.2 cm.',\n",
              " '8. Renal mass with hemorrhage, 5.0 x 4.6 x 5.1 cm.',\n",
              " '9. Renal mass, 3.2 cm, with central necrosis.',\n",
              " '10. Renal mass with associated calcification, 3.8 x 3.2 cm.']"
            ]
          },
          "metadata": {},
          "execution_count": 10
        }
      ]
    },
    {
      "cell_type": "code",
      "source": [
        "# Remove initial enumerations and duplicates, and sort.\n",
        "presence_samples = [re.sub(r'^\\d+\\.\\s*', '', s) for s in presence_samples]\n",
        "presence_samples = sorted(set(s for s in presence_samples if s.strip()))\n",
        "presence_samples[:10]"
      ],
      "metadata": {
        "colab": {
          "base_uri": "https://localhost:8080/"
        },
        "id": "YFBCx2MnqRMb",
        "outputId": "4399705a-6350-4ed9-ce42-95fdfe5c8046"
      },
      "execution_count": null,
      "outputs": [
        {
          "output_type": "execute_result",
          "data": {
            "text/plain": [
              "['## Dictionaries',\n",
              " '1 cm left renal mass.',\n",
              " '10 cm renal mass in the left kidney',\n",
              " '11 cm renal mass in the right kidney',\n",
              " '3 cm mass in right kidney.',\n",
              " '3 cm mass in the left kidney',\n",
              " '3 cm mass in the right kidney.',\n",
              " '3 cm renal mass.',\n",
              " '3 cm right renal mass.',\n",
              " '3.2 cm renal mass in the left kidney.']"
            ]
          },
          "metadata": {},
          "execution_count": 11
        }
      ]
    },
    {
      "cell_type": "markdown",
      "source": [
        "### Now test these 100% generated samples with a logistic regression model"
      ],
      "metadata": {
        "id": "PXGGQAj5saRL"
      }
    },
    {
      "cell_type": "code",
      "source": [
        "!pip install -q embeddings"
      ],
      "metadata": {
        "id": "Fa-9rlOGs7XW"
      },
      "execution_count": null,
      "outputs": []
    },
    {
      "cell_type": "code",
      "source": [
        "import re\n",
        "\n",
        "import numpy as np\n",
        "\n",
        "from embeddings import GloveEmbedding\n",
        "from sklearn.feature_selection import SelectKBest\n",
        "from sklearn.linear_model import LogisticRegression\n",
        "from sklearn.metrics import classification_report"
      ],
      "metadata": {
        "id": "pZAN-GX4rFJE"
      },
      "execution_count": null,
      "outputs": []
    },
    {
      "cell_type": "code",
      "source": [
        "class Embedder:\n",
        "\n",
        "    embeddings = GloveEmbedding('wikipedia_gigaword', d_emb=50, show_progress=True, default='zero')\n",
        "\n",
        "    def embed(self, sentences, aggregator='max'):\n",
        "        embeddings = []\n",
        "        for sentence in sentences:\n",
        "            tokens = re.findall(r'\\w+', sentence.lower()) \n",
        "            token_embeddings = np.array([self.embeddings.emb(t, default='zero') for t in tokens])\n",
        "            sentence_embedding = getattr(token_embeddings, aggregator)(axis=0)\n",
        "            embeddings.append(sentence_embedding)\n",
        "        return np.stack(embeddings)"
      ],
      "metadata": {
        "id": "hzjdZnKQvpsV"
      },
      "execution_count": null,
      "outputs": []
    },
    {
      "cell_type": "code",
      "source": [
        "train_X = absence_samples + presence_samples\n",
        "train_y = [0] * len(absence_samples) + [1] * len(presence_samples)\n",
        "len(train_X), len(train_y)"
      ],
      "metadata": {
        "colab": {
          "base_uri": "https://localhost:8080/"
        },
        "id": "cSOZOGPOv4WP",
        "outputId": "0d0321b0-f110-49c1-cc51-2c3e2a1ef668"
      },
      "execution_count": null,
      "outputs": [
        {
          "output_type": "execute_result",
          "data": {
            "text/plain": [
              "(175, 175)"
            ]
          },
          "metadata": {},
          "execution_count": 15
        }
      ]
    },
    {
      "cell_type": "code",
      "source": [
        "eval_X = [\n",
        "    'There is a left renal cyst, probably a Bosniak 2, measuring 3.1 cm.',\n",
        "    'Both kidneys are free of cysts.',\n",
        "    'There are bilateral renal cysts, the largest of which is 1.1 cm.',\n",
        "    'The kidneys are normal.',\n",
        "    'A 1.7 x 1.9 x 3.2 cm mass is seen on the right kidney.',\n",
        "    'Negative for renal cysts.',\n",
        "    'Multiple bilateral tiny renal cysts.',\n",
        "    'Kidneys contain no masses.',\n",
        "    'A previously seen 8.3 cm left renal cyst is demonstrated.',\n",
        "    'Kidneys: healthy.',\n",
        "    'Too small to characterize left renal cyst.',\n",
        "    'The kidneys are without abnormality.',\n",
        "]\n",
        "eval_y = [1, 0, 1, 0, 1, 0, 1, 0, 1, 0, 1, 0]"
      ],
      "metadata": {
        "id": "KtYsf-Nmtew0"
      },
      "execution_count": null,
      "outputs": []
    },
    {
      "cell_type": "code",
      "source": [
        "embedder = Embedder()\n",
        "vectorized_X = embedder.embed(train_X, aggregator='max')\n",
        "\n",
        "clf = LogisticRegression(random_state=0, penalty='l1', solver='liblinear')\n",
        "clf.fit(vectorized_X, train_y)"
      ],
      "metadata": {
        "colab": {
          "base_uri": "https://localhost:8080/"
        },
        "outputId": "7d4dffec-6e17-4e21-e1b6-72633b0acc5f",
        "id": "AFhIMbzK79p4"
      },
      "execution_count": null,
      "outputs": [
        {
          "output_type": "execute_result",
          "data": {
            "text/plain": [
              "LogisticRegression(penalty='l1', random_state=0, solver='liblinear')"
            ]
          },
          "metadata": {},
          "execution_count": 17
        }
      ]
    },
    {
      "cell_type": "code",
      "source": [
        "vectorized_X_eval = embedder.embed(eval_X, aggregator='max')\n",
        "predictions = clf.predict(vectorized_X_eval)\n",
        "predictions"
      ],
      "metadata": {
        "colab": {
          "base_uri": "https://localhost:8080/"
        },
        "outputId": "4347c5c8-bf99-4ec6-aad5-9c8ca6502507",
        "id": "l0JrtFbX79p5"
      },
      "execution_count": null,
      "outputs": [
        {
          "output_type": "execute_result",
          "data": {
            "text/plain": [
              "array([1, 0, 1, 0, 1, 0, 1, 0, 1, 0, 0, 0])"
            ]
          },
          "metadata": {},
          "execution_count": 18
        }
      ]
    },
    {
      "cell_type": "code",
      "source": [
        "print(classification_report(eval_y, predictions))"
      ],
      "metadata": {
        "colab": {
          "base_uri": "https://localhost:8080/"
        },
        "id": "gusENX30xinh",
        "outputId": "dbfb9593-2d78-49e9-fa75-7adcef35f301"
      },
      "execution_count": null,
      "outputs": [
        {
          "output_type": "stream",
          "name": "stdout",
          "text": [
            "              precision    recall  f1-score   support\n",
            "\n",
            "           0       0.86      1.00      0.92         6\n",
            "           1       1.00      0.83      0.91         6\n",
            "\n",
            "    accuracy                           0.92        12\n",
            "   macro avg       0.93      0.92      0.92        12\n",
            "weighted avg       0.93      0.92      0.92        12\n",
            "\n"
          ]
        }
      ]
    },
    {
      "cell_type": "markdown",
      "source": [
        "## Data Augmentation with Synonyms\n",
        "\n",
        "There are a variety of ways to augment NLP data, though augmenting NLP data has historically been less practiced than the augmenting of computer vision data. Some of you may have experience with torchvision transforms, PIL transformations, or OpenCV transformations. We use these packages to augment datasets for computer vision tasks (such as reading radiology scans) with operations such as cropping, jittering, flipping, resizing, etc. It can increase the size of our dataset substantially.\n",
        "\n",
        "NLP data augmentation is similar. We can add or remove words that probably do not affect the meaning of the sentence, replace words in the sentence with synonyms, try to negate the sentence to get its opposite meaning, etc.\n",
        "\n"
      ],
      "metadata": {
        "id": "L1ID84Ld81zc"
      }
    },
    {
      "cell_type": "code",
      "source": [
        "!pip install -q nlpaug"
      ],
      "metadata": {
        "id": "MfGjIE7KyJfD"
      },
      "execution_count": null,
      "outputs": []
    },
    {
      "cell_type": "code",
      "source": [
        "from random import choice\n",
        "\n",
        "from nlpaug.augmenter.word import SynonymAug"
      ],
      "metadata": {
        "id": "8VhAnQrTBUuK"
      },
      "execution_count": null,
      "outputs": []
    },
    {
      "cell_type": "code",
      "source": [
        "mass_words = ['cyst', 'nodule', 'lesion', 'mass', 'aml', 'angiomyolipoma', 'Bosniak']\n",
        "stopwords = ['the', 'a', 'an', 'to', 'cm', 'there', '0', '1', '2', '3', '4', '5', '6', '7', '8', '9', '10', '11', '12', '13', '14', 'is', 'are', 'has', 'have'] + mass_words"
      ],
      "metadata": {
        "id": "WJkUsOgIItuR"
      },
      "execution_count": null,
      "outputs": []
    },
    {
      "cell_type": "code",
      "source": [
        "augmenter = SynonymAug(stopwords=stopwords)"
      ],
      "metadata": {
        "id": "rgTJJBLFB5kq"
      },
      "execution_count": null,
      "outputs": []
    },
    {
      "cell_type": "code",
      "source": [
        "augmenter.augment(['There is a 2.4 cm renal mass on the right.', 'A 1.2 cm cyst exists on the left.'])"
      ],
      "metadata": {
        "colab": {
          "base_uri": "https://localhost:8080/"
        },
        "id": "_H4lrEH0CjFf",
        "outputId": "83e01b31-db6a-4188-a1c3-5bab2b746c54"
      },
      "execution_count": null,
      "outputs": [
        {
          "output_type": "execute_result",
          "data": {
            "text/plain": [
              "['On that point is a 2. 4 cm nephritic mass on the rightfulness.',\n",
              " 'A 1. 2 cm cyst exists on the left hand.']"
            ]
          },
          "metadata": {},
          "execution_count": 24
        }
      ]
    },
    {
      "cell_type": "code",
      "source": [
        "def randomly_replace_mass_terms(samples):\n",
        "    \"\"\"\n",
        "    We want to do this in a more controlled fashion.\n",
        "    \"\"\"\n",
        "    mass_terms = re.compile(r''.join(mass_words), flags=re.I)\n",
        "    for i in range(len(samples)):\n",
        "        sentence = samples[i]\n",
        "        samples[i] = mass_terms.sub(choice(mass_words), sentence)"
      ],
      "metadata": {
        "id": "XkHuau2PCspc"
      },
      "execution_count": null,
      "outputs": []
    },
    {
      "cell_type": "code",
      "source": [
        "augmenting_absence_samples = augmenter.augment(absence_samples)\n",
        "randomly_replace_mass_terms(augmenting_absence_samples)\n",
        "\n",
        "augmenting_presence_samples = augmenter.augment(presence_samples)\n",
        "randomly_replace_mass_terms(augmenting_presence_samples)"
      ],
      "metadata": {
        "id": "u_DxeTAbLn9I"
      },
      "execution_count": null,
      "outputs": []
    },
    {
      "cell_type": "code",
      "source": [
        "augmented_absence_samples = absence_samples + augmenting_absence_samples\n",
        "augmented_presence_samples = presence_samples + augmenting_presence_samples\n",
        "len(augmented_absence_samples), len(augmented_presence_samples)"
      ],
      "metadata": {
        "colab": {
          "base_uri": "https://localhost:8080/"
        },
        "id": "zGLpHYKPL89c",
        "outputId": "f1ec570a-05a4-43a0-b53a-d1a99d05a02d"
      },
      "execution_count": null,
      "outputs": [
        {
          "output_type": "execute_result",
          "data": {
            "text/plain": [
              "(148, 202)"
            ]
          },
          "metadata": {},
          "execution_count": 27
        }
      ]
    },
    {
      "cell_type": "code",
      "source": [
        "augmented_absence_samples[-20:]"
      ],
      "metadata": {
        "colab": {
          "base_uri": "https://localhost:8080/"
        },
        "id": "kWZvk7R8MQIH",
        "outputId": "6339ec2f-c0e9-4a70-dc1c-f6d826f25133"
      },
      "execution_count": null,
      "outputs": [
        {
          "output_type": "execute_result",
          "data": {
            "text/plain": [
              "['The mass is cystic.',\n",
              " 'The mass is satisfying.',\n",
              " 'The good kidney measure 10 cm in length and the left kidney measure 9. 5 cm in distance. There are no multitude.',\n",
              " 'The written report does non certify a mass.',\n",
              " 'The study get along non bring out a mass.',\n",
              " 'The cogitation does not discover any lesion in the kidney.',\n",
              " 'The report exercise non reveal any mass.',\n",
              " 'The written report does not expose any nephritic mass.',\n",
              " 'The bailiwick is minus for a mass.',\n",
              " 'There are no lesion in either kidney.',\n",
              " 'Thither are no wound on the kidney.',\n",
              " 'In that location are no nephritic abnormalities.',\n",
              " 'There are no nephritic plenty.',\n",
              " 'Thither is no grounds of a mass.',\n",
              " 'In that location is no grounds of a nephritic mass.',\n",
              " 'At that place is no evidence of nephritic mass.',\n",
              " 'In that respect is no mass in either kidney.',\n",
              " 'Thither is no mass.',\n",
              " 'In that respect is no nephritic mass identify.',\n",
              " 'Thither were no renal lesion.']"
            ]
          },
          "metadata": {},
          "execution_count": 28
        }
      ]
    },
    {
      "cell_type": "code",
      "source": [
        "augmented_presence_samples[-20:]"
      ],
      "metadata": {
        "colab": {
          "base_uri": "https://localhost:8080/"
        },
        "id": "77fsmIAWMfno",
        "outputId": "ae1d1dcb-ccbe-42d2-f13c-1bd55d2b75bd"
      },
      "execution_count": null,
      "outputs": [
        {
          "output_type": "execute_result",
          "data": {
            "text/plain": [
              "['Nephritic mass, 3 cm.',\n",
              " 'Nephritic mass, 3. 2 cm, with cardinal gangrene.',\n",
              " 'Right broken pole mass.',\n",
              " 'Correct nephritic mass mensurate 3. 2 cm.',\n",
              " 'Right hand nephritic mass quantify 3. 2 10 2. 6 cm.',\n",
              " 'Proper nephritic mass valuate 4. 5 cm.',\n",
              " 'Good nephritic mass, 3 cm.',\n",
              " 'Correct nephritic mass, 3. 0 cm.',\n",
              " 'The remaining kidney hold a 3 cm mass.',\n",
              " 'The mass in the veracious kidney measure 6. 5 10 5. 2 cm.',\n",
              " 'The mass is site in the lower pole of the right kidney.',\n",
              " 'The mass valuate 3 cm and is in the left hand kidney.',\n",
              " 'The nephritic mass mensurate 8. 0 cm.',\n",
              " 'Thither is a 3 cm mass in the unexpended kidney.',\n",
              " 'In that respect is a 4. 3 cm mass in the odd kidney.',\n",
              " 'There is a mass in the left hand kidney that measure 7. 0 10 6. 0 cm.',\n",
              " 'On that point is a mass in the right hand kidney measure out 6. 0 cm in its longest proportion.',\n",
              " 'Ii modest left renal masses.',\n",
              " 'multiple low renal cysts',\n",
              " 'nephritic mass appraise 3. 2 ten 2. 1 10 1. 9 cm in the right kidney']"
            ]
          },
          "metadata": {},
          "execution_count": 29
        }
      ]
    },
    {
      "cell_type": "markdown",
      "source": [
        "### Now test these 100% generated samples with a logistic regression model"
      ],
      "metadata": {
        "id": "LNriaLjENjyr"
      }
    },
    {
      "cell_type": "code",
      "source": [
        "train_X = augmented_absence_samples + augmented_presence_samples\n",
        "train_y = [0] * len(augmented_absence_samples) + [1] * len(augmented_presence_samples)\n",
        "len(train_X), len(train_y)"
      ],
      "metadata": {
        "colab": {
          "base_uri": "https://localhost:8080/"
        },
        "outputId": "fc394dbe-1aba-4c68-e51a-a1bfd339bfd8",
        "id": "ecwmXPKgNjy0"
      },
      "execution_count": null,
      "outputs": [
        {
          "output_type": "execute_result",
          "data": {
            "text/plain": [
              "(350, 350)"
            ]
          },
          "metadata": {},
          "execution_count": 30
        }
      ]
    },
    {
      "cell_type": "code",
      "source": [
        "vectorized_X = embedder.embed(train_X, aggregator='max')\n",
        "\n",
        "clf = LogisticRegression(random_state=0, penalty='l1', solver='liblinear')\n",
        "clf.fit(vectorized_X, train_y)"
      ],
      "metadata": {
        "colab": {
          "base_uri": "https://localhost:8080/"
        },
        "outputId": "de1bae23-0177-4aed-b56c-c508fa3f4509",
        "id": "zKKnsdWk740i"
      },
      "execution_count": null,
      "outputs": [
        {
          "output_type": "execute_result",
          "data": {
            "text/plain": [
              "LogisticRegression(penalty='l1', random_state=0, solver='liblinear')"
            ]
          },
          "metadata": {},
          "execution_count": 31
        }
      ]
    },
    {
      "cell_type": "code",
      "source": [
        "vectorized_X_eval = embedder.embed(eval_X, aggregator='max')\n",
        "predictions = clf.predict(vectorized_X_eval)\n",
        "predictions"
      ],
      "metadata": {
        "colab": {
          "base_uri": "https://localhost:8080/"
        },
        "outputId": "dcab2610-7599-4eb0-a0fb-c9aa86d9edda",
        "id": "NAWUhH8J740i"
      },
      "execution_count": null,
      "outputs": [
        {
          "output_type": "execute_result",
          "data": {
            "text/plain": [
              "array([1, 0, 1, 0, 1, 0, 1, 0, 1, 0, 0, 0])"
            ]
          },
          "metadata": {},
          "execution_count": 32
        }
      ]
    },
    {
      "cell_type": "code",
      "source": [
        "print(classification_report(eval_y, predictions))"
      ],
      "metadata": {
        "colab": {
          "base_uri": "https://localhost:8080/"
        },
        "outputId": "8ca7b8c7-b2ce-43d5-946d-806055ec3189",
        "id": "mLZ5_8LCNjy1"
      },
      "execution_count": null,
      "outputs": [
        {
          "output_type": "stream",
          "name": "stdout",
          "text": [
            "              precision    recall  f1-score   support\n",
            "\n",
            "           0       0.86      1.00      0.92         6\n",
            "           1       1.00      0.83      0.91         6\n",
            "\n",
            "    accuracy                           0.92        12\n",
            "   macro avg       0.93      0.92      0.92        12\n",
            "weighted avg       0.93      0.92      0.92        12\n",
            "\n"
          ]
        }
      ]
    },
    {
      "cell_type": "markdown",
      "source": [
        "## Data Augmentation with a Markov Model\n",
        "\n",
        "I have so far found this sort of data generation/augmentation useful only in particular circumstances. For example, I had a dataset which had very few mentions of any cysts. I built a Markov model and generated several sentences with the word 'cyst', but within contexts different from the samples of cysts that I already had."
      ],
      "metadata": {
        "id": "Ys2fWDHgXMnX"
      }
    },
    {
      "cell_type": "code",
      "execution_count": null,
      "metadata": {
        "id": "L-zMDqukVGKe"
      },
      "outputs": [],
      "source": [
        "!pip install -q markovify"
      ]
    },
    {
      "cell_type": "code",
      "source": [
        "from time import time\n",
        "\n",
        "import markovify"
      ],
      "metadata": {
        "id": "DOIfxGK0VJY5"
      },
      "execution_count": null,
      "outputs": []
    },
    {
      "cell_type": "code",
      "source": [
        "presence_text = ' '.join(presence_samples)\n",
        "absence_text = ' '.join(absence_samples + ['No cysts appear in the kidney.', 'No cysts appear in the left kidney.'])"
      ],
      "metadata": {
        "id": "7OvIgfMeWWgT"
      },
      "execution_count": null,
      "outputs": []
    },
    {
      "cell_type": "code",
      "source": [
        "presence_markov_model = markovify.Text(presence_text, state_size=4)\n",
        "absence_markov_model = markovify.Text(absence_text, state_size=2)  # Our corpus is not huge, so we need to shrink the state size."
      ],
      "metadata": {
        "id": "67zZJGWWWdty"
      },
      "execution_count": null,
      "outputs": []
    },
    {
      "cell_type": "code",
      "source": [
        "def generate_new_sentences(model, n=50, timeout=30):\n",
        "    sentences = []\n",
        "    c = 0\n",
        "    start = time()\n",
        "    while c < n:\n",
        "        sentence = model.make_sentence()\n",
        "        if sentence:\n",
        "            sentences.append(sentence)\n",
        "            c += 1\n",
        "        if time() - start >= timeout:\n",
        "            break\n",
        "    return sentences"
      ],
      "metadata": {
        "id": "HokdUu_EW4eu"
      },
      "execution_count": null,
      "outputs": []
    },
    {
      "cell_type": "code",
      "source": [
        "markov_presence_samples = generate_new_sentences(presence_markov_model, n=len(presence_samples))\n",
        "markov_absence_samples = generate_new_sentences(absence_markov_model, n=len(absence_samples))\n",
        "len(markov_presence_samples), len(markov_absence_samples)"
      ],
      "metadata": {
        "colab": {
          "base_uri": "https://localhost:8080/"
        },
        "id": "QEqx-Y_JW-P9",
        "outputId": "11ccca06-10fd-44f1-dbc2-ca7b21600c42"
      },
      "execution_count": null,
      "outputs": [
        {
          "output_type": "execute_result",
          "data": {
            "text/plain": [
              "(101, 74)"
            ]
          },
          "metadata": {},
          "execution_count": 39
        }
      ]
    },
    {
      "cell_type": "code",
      "source": [
        "markov_augmented_absence_samples = absence_samples + markov_absence_samples\n",
        "markov_augmented_presence_samples = presence_samples + markov_presence_samples\n",
        "len(markov_augmented_presence_samples), len(markov_augmented_absence_samples)"
      ],
      "metadata": {
        "colab": {
          "base_uri": "https://localhost:8080/"
        },
        "id": "KvIXNULHarWZ",
        "outputId": "44dbc751-5df4-4d6f-cb6a-c959b14df328"
      },
      "execution_count": null,
      "outputs": [
        {
          "output_type": "execute_result",
          "data": {
            "text/plain": [
              "(202, 148)"
            ]
          },
          "metadata": {},
          "execution_count": 40
        }
      ]
    },
    {
      "cell_type": "markdown",
      "source": [
        "### Now test these augmented samples with a logistic regression model"
      ],
      "metadata": {
        "id": "1mUKxJPHc8Ap"
      }
    },
    {
      "cell_type": "code",
      "source": [
        "train_X = markov_augmented_absence_samples + markov_augmented_presence_samples\n",
        "train_y = [0] * len(markov_augmented_absence_samples) + [1] * len(markov_augmented_presence_samples)\n",
        "len(train_X), len(train_y)"
      ],
      "metadata": {
        "colab": {
          "base_uri": "https://localhost:8080/"
        },
        "outputId": "7b3b162e-6a62-49b5-d6e8-17668a09740f",
        "id": "_9uuzJKPc8Ap"
      },
      "execution_count": null,
      "outputs": [
        {
          "output_type": "execute_result",
          "data": {
            "text/plain": [
              "(350, 350)"
            ]
          },
          "metadata": {},
          "execution_count": 41
        }
      ]
    },
    {
      "cell_type": "code",
      "source": [
        "vectorized_X = embedder.embed(train_X, aggregator='max')\n",
        "\n",
        "clf = LogisticRegression(random_state=0, penalty='l1', solver='liblinear')\n",
        "clf.fit(vectorized_X, train_y)"
      ],
      "metadata": {
        "colab": {
          "base_uri": "https://localhost:8080/"
        },
        "outputId": "2bfc5244-240f-47ee-fea4-cababf78a7cf",
        "id": "hm643jV671HH"
      },
      "execution_count": null,
      "outputs": [
        {
          "output_type": "execute_result",
          "data": {
            "text/plain": [
              "LogisticRegression(penalty='l1', random_state=0, solver='liblinear')"
            ]
          },
          "metadata": {},
          "execution_count": 42
        }
      ]
    },
    {
      "cell_type": "code",
      "source": [
        "vectorized_X_eval = embedder.embed(eval_X, aggregator='max')\n",
        "predictions = clf.predict(vectorized_X_eval)\n",
        "predictions"
      ],
      "metadata": {
        "colab": {
          "base_uri": "https://localhost:8080/"
        },
        "outputId": "7609c0a2-12e3-484c-8898-a6cca72f6cf5",
        "id": "Q8J5y3x871HH"
      },
      "execution_count": null,
      "outputs": [
        {
          "output_type": "execute_result",
          "data": {
            "text/plain": [
              "array([1, 0, 1, 0, 1, 0, 0, 0, 1, 0, 0, 0])"
            ]
          },
          "metadata": {},
          "execution_count": 43
        }
      ]
    },
    {
      "cell_type": "code",
      "source": [
        "print(classification_report(eval_y, predictions))"
      ],
      "metadata": {
        "colab": {
          "base_uri": "https://localhost:8080/"
        },
        "outputId": "d169ed70-e7c6-487f-d56f-7c9287fb46c0",
        "id": "GxteV_G4c8Aq"
      },
      "execution_count": null,
      "outputs": [
        {
          "output_type": "stream",
          "name": "stdout",
          "text": [
            "              precision    recall  f1-score   support\n",
            "\n",
            "           0       0.75      1.00      0.86         6\n",
            "           1       1.00      0.67      0.80         6\n",
            "\n",
            "    accuracy                           0.83        12\n",
            "   macro avg       0.88      0.83      0.83        12\n",
            "weighted avg       0.88      0.83      0.83        12\n",
            "\n"
          ]
        }
      ]
    },
    {
      "cell_type": "markdown",
      "source": [
        "## Templated Data Generation\n",
        "\n",
        "Another way NLP practitioners generate datasets is to use templates. This can sometimes lead to substantial gains in model quality."
      ],
      "metadata": {
        "id": "weV4bXhBj2s8"
      }
    },
    {
      "cell_type": "code",
      "source": [
        "positive_templates = [\n",
        "    'There is a {measure} {mass_type} in the {laterality} {area}.',\n",
        "    'A {measure} {mass_type} in the {laterality} {area}.',\n",
        "    'Bilateral {mass_type_plural} in the {area}.',\n",
        "    '{mass_type_plural} {seen_terms}on both {area_plural}.',\n",
        "    'There is {seen_terms}on the {laterality} a {mass_type} {measure}.',\n",
        "    '{mass_type} is {seen_terms}on the {laterality} {measure}.',\n",
        "]\n",
        "negative_templates = [\n",
        "    'There is no {mass_type} in the {laterality} {area}.',\n",
        "    'No {mass_type} in the {laterality} {area}.',\n",
        "    'Bilateral {mass_type_plural} in the {area} are absent.',\n",
        "    '{mass_type_plural} not {seen_terms}on both {area_plural}.',\n",
        "    'There is not {seen_terms}on the {laterality} a {mass_type}.',\n",
        "    '{mass_type} is not {seen_terms}on the {laterality}.',\n",
        "    'The {laterality} kidney is without {mass_type_plural}.'\n",
        "]"
      ],
      "metadata": {
        "id": "MxNEqxJedKQ4"
      },
      "execution_count": null,
      "outputs": []
    },
    {
      "cell_type": "code",
      "source": [
        "def get_templated_samples(templates, n=100, **template_kwargs):\n",
        "    \"\"\"\n",
        "    kwargs: dict of str: sequence possible kwargs for the template format function.\n",
        "    \"\"\"\n",
        "    new_samples = set()\n",
        "    while len(new_samples) < n:\n",
        "        template = choice(templates)\n",
        "        sample = template.format(**{k: choice(v) for k, v in template_kwargs.items()})\n",
        "        new_samples.add(sample.capitalize())\n",
        "    return sorted(new_samples)"
      ],
      "metadata": {
        "id": "wd_Y7_oEmyqV"
      },
      "execution_count": null,
      "outputs": []
    },
    {
      "cell_type": "code",
      "source": [
        "template_kwargs = {\n",
        "    'measure': [f'measuring {i / 10:.1f} cm' for i in range(100)] + ['small', 'tstc', 'tiny', 'too small to characterize'] * 20,\n",
        "    'mass_type': ['lesion', 'cyst', 'mass', 'nodule'],\n",
        "    'laterality': ['left', 'right'],\n",
        "    'area': ['kidney', 'renal area', 'renal parenchyma'],\n",
        "    'area_plural': ['kidneys', 'renals'],\n",
        "    'mass_type_plural': ['lesions', 'cysts', 'masses', 'nodules'],\n",
        "    'seen_terms': ['demonstrated ', 'visualized ', 'apparent ', 'proved ', 'proven ', 'seen ', 'viewed ', ' '],\n",
        "}"
      ],
      "metadata": {
        "id": "dIo_6MxunmFB"
      },
      "execution_count": null,
      "outputs": []
    },
    {
      "cell_type": "code",
      "source": [
        "templated_presence_samples = get_templated_samples(positive_templates, n=100, **template_kwargs)\n",
        "templated_absence_samples = get_templated_samples(negative_templates, n=100, **template_kwargs)\n",
        "len(templated_presence_samples), len(templated_absence_samples)"
      ],
      "metadata": {
        "colab": {
          "base_uri": "https://localhost:8080/"
        },
        "outputId": "d2f9320a-83c8-42cf-fd2d-a7cbc8e485de",
        "id": "CjfMj8lGsEl4"
      },
      "execution_count": null,
      "outputs": [
        {
          "output_type": "execute_result",
          "data": {
            "text/plain": [
              "(100, 100)"
            ]
          },
          "metadata": {},
          "execution_count": 48
        }
      ]
    },
    {
      "cell_type": "code",
      "source": [
        "template_augmented_absence_samples = absence_samples + templated_absence_samples\n",
        "template_augmented_presence_samples = presence_samples + templated_presence_samples\n",
        "len(template_augmented_presence_samples), len(template_augmented_absence_samples)"
      ],
      "metadata": {
        "colab": {
          "base_uri": "https://localhost:8080/"
        },
        "outputId": "3b20d208-19bf-4632-f3ec-429856a928c2",
        "id": "K2yoXXUHsEl5"
      },
      "execution_count": null,
      "outputs": [
        {
          "output_type": "execute_result",
          "data": {
            "text/plain": [
              "(201, 174)"
            ]
          },
          "metadata": {},
          "execution_count": 49
        }
      ]
    },
    {
      "cell_type": "code",
      "source": [
        "template_augmented_presence_samples[-20:]"
      ],
      "metadata": {
        "colab": {
          "base_uri": "https://localhost:8080/"
        },
        "id": "95P967VZsbzv",
        "outputId": "c3e1c37b-bd40-4066-c107-033d0284d5f6"
      },
      "execution_count": null,
      "outputs": [
        {
          "output_type": "execute_result",
          "data": {
            "text/plain": [
              "['There is apparent on the left a nodule too small to characterize.',\n",
              " 'There is demonstrated on the right a cyst measuring 6.6 cm.',\n",
              " 'There is demonstrated on the right a nodule measuring 9.6 cm.',\n",
              " 'There is demonstrated on the right a nodule too small to characterize.',\n",
              " 'There is proved on the left a mass tstc.',\n",
              " 'There is proved on the right a cyst measuring 4.8 cm.',\n",
              " 'There is proven on the left a cyst tiny.',\n",
              " 'There is proven on the right a cyst too small to characterize.',\n",
              " 'There is seen on the left a cyst measuring 7.6 cm.',\n",
              " 'There is seen on the left a nodule small.',\n",
              " 'There is viewed on the left a lesion tiny.',\n",
              " 'There is viewed on the left a mass measuring 6.9 cm.',\n",
              " 'There is viewed on the left a nodule measuring 1.8 cm.',\n",
              " 'There is viewed on the right a cyst too small to characterize.',\n",
              " 'There is visualized on the left a mass measuring 9.7 cm.',\n",
              " 'There is visualized on the left a nodule measuring 0.8 cm.',\n",
              " 'There is visualized on the left a nodule measuring 5.4 cm.',\n",
              " 'There is visualized on the right a cyst measuring 3.6 cm.',\n",
              " 'There is visualized on the right a lesion tiny.',\n",
              " 'There is visualized on the right a nodule measuring 6.6 cm.']"
            ]
          },
          "metadata": {},
          "execution_count": 50
        }
      ]
    },
    {
      "cell_type": "code",
      "source": [
        "template_augmented_absence_samples[-20:]"
      ],
      "metadata": {
        "colab": {
          "base_uri": "https://localhost:8080/"
        },
        "id": "HrKTkhe5seAM",
        "outputId": "8b17da81-0bfb-49bb-b83b-75e3588f7d3f"
      },
      "execution_count": null,
      "outputs": [
        {
          "output_type": "execute_result",
          "data": {
            "text/plain": [
              "['There is no nodule in the right renal parenchyma.',\n",
              " 'There is not  on the left a cyst.',\n",
              " 'There is not  on the right a nodule.',\n",
              " 'There is not apparent on the right a lesion.',\n",
              " 'There is not apparent on the right a mass.',\n",
              " 'There is not demonstrated on the left a nodule.',\n",
              " 'There is not demonstrated on the right a lesion.',\n",
              " 'There is not demonstrated on the right a mass.',\n",
              " 'There is not demonstrated on the right a nodule.',\n",
              " 'There is not proved on the right a cyst.',\n",
              " 'There is not proven on the left a lesion.',\n",
              " 'There is not proven on the left a mass.',\n",
              " 'There is not seen on the left a cyst.',\n",
              " 'There is not seen on the left a mass.',\n",
              " 'There is not seen on the right a cyst.',\n",
              " 'There is not viewed on the left a cyst.',\n",
              " 'There is not viewed on the left a lesion.',\n",
              " 'There is not viewed on the right a cyst.',\n",
              " 'There is not visualized on the left a mass.',\n",
              " 'There is not visualized on the right a cyst.']"
            ]
          },
          "metadata": {},
          "execution_count": 51
        }
      ]
    },
    {
      "cell_type": "markdown",
      "source": [
        "### Now test these augmented samples with a logistic regression model"
      ],
      "metadata": {
        "id": "rw8JYtWPs-of"
      }
    },
    {
      "cell_type": "code",
      "source": [
        "train_X = template_augmented_absence_samples + template_augmented_presence_samples\n",
        "train_y = [0] * len(template_augmented_absence_samples) + [1] * len(template_augmented_presence_samples)\n",
        "len(train_X), len(train_y)"
      ],
      "metadata": {
        "colab": {
          "base_uri": "https://localhost:8080/"
        },
        "outputId": "34b5ec07-53e9-4319-91eb-e3fcd9983605",
        "id": "D5YrXAiIs-of"
      },
      "execution_count": null,
      "outputs": [
        {
          "output_type": "execute_result",
          "data": {
            "text/plain": [
              "(375, 375)"
            ]
          },
          "metadata": {},
          "execution_count": 52
        }
      ]
    },
    {
      "cell_type": "code",
      "source": [
        "vectorized_X = embedder.embed(train_X, aggregator='max')\n",
        "\n",
        "clf = LogisticRegression(random_state=0, penalty='l1', solver='liblinear')\n",
        "clf.fit(vectorized_X, train_y)"
      ],
      "metadata": {
        "colab": {
          "base_uri": "https://localhost:8080/"
        },
        "outputId": "31796146-04b6-4cc8-f1cd-7b1760ade195",
        "id": "J7v_-wnz6x2m"
      },
      "execution_count": null,
      "outputs": [
        {
          "output_type": "execute_result",
          "data": {
            "text/plain": [
              "LogisticRegression(penalty='l1', random_state=0, solver='liblinear')"
            ]
          },
          "metadata": {},
          "execution_count": 53
        }
      ]
    },
    {
      "cell_type": "code",
      "source": [
        "vectorized_X_eval = embedder.embed(eval_X, aggregator='max')\n",
        "predictions = clf.predict(vectorized_X_eval)\n",
        "predictions"
      ],
      "metadata": {
        "colab": {
          "base_uri": "https://localhost:8080/"
        },
        "outputId": "1d909ef4-21d7-4a7f-8eff-edf3cb9b7e5f",
        "id": "DjRmbKqi6x2n"
      },
      "execution_count": null,
      "outputs": [
        {
          "output_type": "execute_result",
          "data": {
            "text/plain": [
              "array([1, 0, 1, 0, 1, 0, 1, 0, 1, 0, 1, 0])"
            ]
          },
          "metadata": {},
          "execution_count": 54
        }
      ]
    },
    {
      "cell_type": "code",
      "source": [
        "print(classification_report(eval_y, predictions))"
      ],
      "metadata": {
        "colab": {
          "base_uri": "https://localhost:8080/"
        },
        "outputId": "792d5a67-9b0c-43d3-96de-6a280c5d65f5",
        "id": "4t452kaRs-og"
      },
      "execution_count": null,
      "outputs": [
        {
          "output_type": "stream",
          "name": "stdout",
          "text": [
            "              precision    recall  f1-score   support\n",
            "\n",
            "           0       1.00      1.00      1.00         6\n",
            "           1       1.00      1.00      1.00         6\n",
            "\n",
            "    accuracy                           1.00        12\n",
            "   macro avg       1.00      1.00      1.00        12\n",
            "weighted avg       1.00      1.00      1.00        12\n",
            "\n"
          ]
        }
      ]
    },
    {
      "cell_type": "code",
      "source": [],
      "metadata": {
        "id": "KRr4oD-vs3JE"
      },
      "execution_count": null,
      "outputs": []
    }
  ]
}