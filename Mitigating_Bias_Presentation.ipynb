{
  "nbformat": 4,
  "nbformat_minor": 0,
  "metadata": {
    "colab": {
      "provenance": []
    },
    "kernelspec": {
      "name": "python3",
      "display_name": "Python 3"
    },
    "accelerator": "GPU"
  },
  "cells": [
    {
      "cell_type": "markdown",
      "metadata": {
        "id": "wo0O7PV9jZD_"
      },
      "source": [
        "#Identifying and Mitigating Bias: An Example\n",
        "\n",
        "The following notebook demonstrates how one might go about identifying and mitigating bias in for a neural network model that attempts to predict whether a person makes more than $50,000 per year based upon census data. You can read about the data set here:\n",
        "\n",
        "https://archive.ics.uci.edu/ml/datasets/adult"
      ]
    },
    {
      "cell_type": "markdown",
      "metadata": {
        "id": "u12gUVZGARGN"
      },
      "source": [
        "## Installing Necessary Packages\n",
        "\n",
        "See explanations of these packages below."
      ]
    },
    {
      "cell_type": "code",
      "metadata": {
        "id": "FYj_st1KBc2Q"
      },
      "source": [
        "!pip install lime\n",
        "!pip install --no-dependencies aif360"
      ],
      "execution_count": null,
      "outputs": []
    },
    {
      "cell_type": "markdown",
      "metadata": {
        "id": "fsJ7yk4dkRDR"
      },
      "source": [
        "## Building a Simple Neural Network\n",
        "The following neural network is merely for the sake of illustration. I have not optimized it for performance at all. There are four hidden layers, each with dropout of 0.5."
      ]
    },
    {
      "cell_type": "code",
      "metadata": {
        "id": "nTxeaC-tUQoH"
      },
      "source": [
        "import numpy as np\n",
        "\n",
        "from aif360.datasets import AdultDataset\n",
        "from sklearn.preprocessing import MinMaxScaler\n",
        "from tensorflow.keras.callbacks import EarlyStopping\n",
        "from tensorflow.keras.datasets import boston_housing\n",
        "from tensorflow.keras.layers import Dense, Dropout\n",
        "from tensorflow.keras.models import Sequential"
      ],
      "execution_count": null,
      "outputs": []
    },
    {
      "cell_type": "markdown",
      "metadata": {
        "id": "zJ7hGvDjC7B_"
      },
      "source": [
        "### The Adult Dataset\n",
        "Predict whether income exceeds $50K/yr based on census data. Also known as \"Census Income\" dataset."
      ]
    },
    {
      "cell_type": "code",
      "metadata": {
        "id": "pC-4UaA8BSN1"
      },
      "source": [
        "census_dataset = AdultDataset(instance_weights_name='fnlwgt',\n",
        "                              features_to_drop=[])"
      ],
      "execution_count": null,
      "outputs": []
    },
    {
      "cell_type": "code",
      "metadata": {
        "id": "3pLvN8cvBmKC"
      },
      "source": [
        "census_dataset.protected_attribute_names"
      ],
      "execution_count": null,
      "outputs": []
    },
    {
      "cell_type": "code",
      "metadata": {
        "id": "MXfyZ6mTCNY_"
      },
      "source": [
        "train, valid = census_dataset.split(num_or_size_splits=[0.8], shuffle=True, seed=1000)"
      ],
      "execution_count": null,
      "outputs": []
    },
    {
      "cell_type": "code",
      "metadata": {
        "id": "SakGcTnGFeKL"
      },
      "source": [
        "x_train_raw, y_train = train.features, train.labels\n",
        "x_valid_raw, y_valid = valid.features, valid.labels"
      ],
      "execution_count": null,
      "outputs": []
    },
    {
      "cell_type": "code",
      "metadata": {
        "id": "JJ1PiNimOsCz"
      },
      "source": [
        "scaler = MinMaxScaler()\n",
        "scaler.fit(census_dataset.features)\n",
        "x_train = scaler.transform(x_train_raw)\n",
        "x_valid = scaler.transform(x_valid_raw)"
      ],
      "execution_count": null,
      "outputs": []
    },
    {
      "cell_type": "markdown",
      "metadata": {
        "id": "ay3sWDTsQ46A"
      },
      "source": [
        "### The Neural Network Model"
      ]
    },
    {
      "cell_type": "code",
      "metadata": {
        "id": "BLMV1GCwX9Il"
      },
      "source": [
        "model = Sequential()\n",
        "model.add(Dense(256, activation='relu', input_shape=(x_train.shape[1],)))\n",
        "model.add(Dropout(0.5))\n",
        "model.add(Dense(128, activation='relu'))\n",
        "model.add(Dropout(0.5))\n",
        "model.add(Dense(64, activation='relu'))\n",
        "model.add(Dropout(0.5))\n",
        "model.add(Dense(1, activation='sigmoid'))"
      ],
      "execution_count": null,
      "outputs": []
    },
    {
      "cell_type": "code",
      "metadata": {
        "id": "sAYbZbndX-JM"
      },
      "source": [
        "model.summary()"
      ],
      "execution_count": null,
      "outputs": []
    },
    {
      "cell_type": "code",
      "metadata": {
        "id": "o4w7HxARRUh-"
      },
      "source": [
        "model.compile(optimizer='adam', loss='binary_crossentropy', metrics=['accuracy'])"
      ],
      "execution_count": null,
      "outputs": []
    },
    {
      "cell_type": "code",
      "metadata": {
        "id": "ZDfewC5eRp3j"
      },
      "source": [
        "model.fit(x_train,\n",
        "          y_train,\n",
        "          batch_size=32,\n",
        "          epochs=25,\n",
        "          validation_data=(x_valid, y_valid),\n",
        "          callbacks=[EarlyStopping(monitor='val_acc',\n",
        "                                   patience=5,\n",
        "                                   restore_best_weights=True)])"
      ],
      "execution_count": null,
      "outputs": []
    },
    {
      "cell_type": "code",
      "metadata": {
        "id": "tJavl9qtSNdJ"
      },
      "source": [
        "loss, accuracy = model.evaluate(x=x_valid, y=y_valid)"
      ],
      "execution_count": null,
      "outputs": []
    },
    {
      "cell_type": "code",
      "metadata": {
        "id": "y7bfzX1R-EKe"
      },
      "source": [
        "model.predict([[x_valid[3]]])\n",
        "        "
      ],
      "execution_count": null,
      "outputs": []
    },
    {
      "cell_type": "markdown",
      "metadata": {
        "id": "hRO4zQWVkx45"
      },
      "source": [
        "## Building Trust: Explain a Prediction Using LIME\n",
        "LIME stands for \"Local Interpretable Model-Agnostic Explanations\". LIME \"explains the predictions of any classifier in an interpretable and faithful manner, by learning an interpretable model locally around the prediction.\" See the following paper:\n",
        "\n",
        "https://arxiv.org/pdf/1602.04938v1.pdf\n",
        "\n",
        "We will use this package:\n",
        "\n",
        "https://github.com/marcotcr/lime"
      ]
    },
    {
      "cell_type": "code",
      "metadata": {
        "id": "fPrwcOVJBkRJ"
      },
      "source": [
        "from lime import lime_tabular"
      ],
      "execution_count": null,
      "outputs": []
    },
    {
      "cell_type": "code",
      "metadata": {
        "id": "i1ypQ9kCB2eF"
      },
      "source": [
        "categorical_indices = [2, 3, 5] + list(range(7, 99))\n",
        "tabular_explainer = lime_tabular.LimeTabularExplainer(x_train,\n",
        "                                                      feature_names=train.feature_names,\n",
        "                                                      class_names=train.label_names,\n",
        "                                                      categorical_features=categorical_indices,\n",
        "                                                      verbose=True,\n",
        "                                                      mode='classification',)"
      ],
      "execution_count": null,
      "outputs": []
    },
    {
      "cell_type": "code",
      "metadata": {
        "id": "Jnx6_VqkDwv8"
      },
      "source": [
        "# reshape model.predict to use in explainer\n",
        "def predict(numpy_array):\n",
        "    p = model.predict(numpy_array).reshape(-1, 1)\n",
        "    return np.hstack((1-p, p))"
      ],
      "execution_count": null,
      "outputs": []
    },
    {
      "cell_type": "code",
      "metadata": {
        "id": "CRP3VPFDfaWN"
      },
      "source": [
        "x_valid_index = 33"
      ],
      "execution_count": null,
      "outputs": []
    },
    {
      "cell_type": "code",
      "metadata": {
        "id": "8M81ZdCQCaJ5"
      },
      "source": [
        "explainer = tabular_explainer.explain_instance(x_valid[x_valid_index],\n",
        "                                               predict,\n",
        "                                               num_features=99)"
      ],
      "execution_count": null,
      "outputs": []
    },
    {
      "cell_type": "code",
      "metadata": {
        "id": "69vkpwGjPQIN"
      },
      "source": [
        "# what is the true y?\n",
        "y_valid[x_valid_index]"
      ],
      "execution_count": null,
      "outputs": []
    },
    {
      "cell_type": "code",
      "metadata": {
        "id": "6-WZTNuXFLef"
      },
      "source": [
        "explainer.as_list()"
      ],
      "execution_count": null,
      "outputs": []
    },
    {
      "cell_type": "code",
      "metadata": {
        "id": "SnU2di40Cqt0"
      },
      "source": [
        "explainer.show_in_notebook(show_table=True)  # race == 0: not caucasian; sex == 0: female"
      ],
      "execution_count": null,
      "outputs": []
    },
    {
      "cell_type": "markdown",
      "metadata": {
        "id": "JsfBK8a2Sz7E"
      },
      "source": [
        "## Check for Bias across Entire Dataset and Mitigate if Necessary"
      ]
    },
    {
      "cell_type": "code",
      "metadata": {
        "id": "ZzKuuWC_TU56"
      },
      "source": [
        "from aif360.datasets import BinaryLabelDataset\n",
        "from aif360.metrics import BinaryLabelDatasetMetric, DatasetMetric\n",
        "import pandas as pd"
      ],
      "execution_count": null,
      "outputs": []
    },
    {
      "cell_type": "code",
      "metadata": {
        "id": "YiY5cxORit06"
      },
      "source": [
        "dataset_metric = BinaryLabelDatasetMetric(train,\n",
        "                                          unprivileged_groups=[{'race': 0, 'sex': 0}],\n",
        "                                          privileged_groups=[{'race': 1, 'sex': 1}])"
      ],
      "execution_count": null,
      "outputs": []
    },
    {
      "cell_type": "markdown",
      "metadata": {
        "id": "q-0MF_8KedR-"
      },
      "source": [
        "#### Discover How Fair the Model Is\n",
        "\n",
        "- **Disparate Impact** (ideal = 1)\n",
        "    - unprivileged favorable outcome rates / privileged favorable outcome rates\n",
        "- **Statistical Parity Difference** (ideal = 0)\n",
        "    - unprivileged favorable outcome rates - privileged favorable outcome rates\n",
        "- **Equal Opportunity Difference** (ideal = 0)\n",
        "    - unprivileged true positive rate / privileged true positive rate"
      ]
    },
    {
      "cell_type": "code",
      "metadata": {
        "id": "oHR8yP3onhlQ"
      },
      "source": [
        "dataset_metric.disparate_impact()  # ideal == 1"
      ],
      "execution_count": null,
      "outputs": []
    },
    {
      "cell_type": "code",
      "metadata": {
        "id": "pSptIsfenj-s"
      },
      "source": [
        "dataset_metric.statistical_parity_difference()  # ideal == 0"
      ],
      "execution_count": null,
      "outputs": []
    },
    {
      "cell_type": "markdown",
      "metadata": {
        "id": "W3xcGDFfiMMz"
      },
      "source": [
        "#### Try Mitigating Bias In-Process"
      ]
    },
    {
      "cell_type": "code",
      "metadata": {
        "id": "rjYfIm5EhMEk"
      },
      "source": [
        "from aif360.algorithms.inprocessing.adversarial_debiasing import AdversarialDebiasing\n",
        "from tensorflow.keras.backend import get_session"
      ],
      "execution_count": null,
      "outputs": []
    },
    {
      "cell_type": "code",
      "metadata": {
        "id": "NCjc2PXriKIR"
      },
      "source": [
        "adversarial_model = AdversarialDebiasing(unprivileged_groups=[{'race': 0, 'sex': 0}],\n",
        "                                         privileged_groups=[{'race': 1, 'sex': 1}],\n",
        "                                         scope_name='main',\n",
        "                                         sess=get_session(),\n",
        "                                         seed=1000)"
      ],
      "execution_count": null,
      "outputs": []
    },
    {
      "cell_type": "code",
      "metadata": {
        "id": "cN9aStVj2ovf"
      },
      "source": [
        "adversarial_model.fit(train)"
      ],
      "execution_count": null,
      "outputs": []
    },
    {
      "cell_type": "code",
      "metadata": {
        "id": "oyirVz_K2yzT"
      },
      "source": [
        "new_dataset = adversarial_model.predict(train)"
      ],
      "execution_count": null,
      "outputs": []
    },
    {
      "cell_type": "code",
      "metadata": {
        "id": "R0aL_8P23ubG"
      },
      "source": [
        "new_dataset_metric = BinaryLabelDatasetMetric(new_dataset,\n",
        "                                              unprivileged_groups=[{'race': 0, 'sex': 0}],\n",
        "                                              privileged_groups=[{'race': 1, 'sex': 1}])"
      ],
      "execution_count": null,
      "outputs": []
    },
    {
      "cell_type": "code",
      "metadata": {
        "id": "f9aX6ziK4tPi"
      },
      "source": [
        "old_di = dataset_metric.disparate_impact()\n",
        "new_di = new_dataset_metric.disparate_impact()\n",
        "print('Disparate Impact:', old_di, '=>', new_di, '(ideal == 1)')"
      ],
      "execution_count": null,
      "outputs": []
    },
    {
      "cell_type": "code",
      "metadata": {
        "id": "ZHNSzg7B4xdw"
      },
      "source": [
        "old_sp = dataset_metric.statistical_parity_difference()  # ideal == 0\n",
        "new_sp = new_dataset_metric.statistical_parity_difference()\n",
        "print('Statistical Parity:', old_sp, '=>', new_sp, '(ideal == 0)')"
      ],
      "execution_count": null,
      "outputs": []
    },
    {
      "cell_type": "code",
      "metadata": {
        "id": "roL3JGAA40vZ"
      },
      "source": [
        "new_accuracy = np.sum(train.labels == adversarial_model.predict(train).labels) / train.labels.shape[0]\n",
        "print('Accuracy of Model:', accuracy, '=>', new_accuracy)"
      ],
      "execution_count": null,
      "outputs": []
    },
    {
      "cell_type": "code",
      "metadata": {
        "id": "3TQ2YlRHBJMF"
      },
      "source": [],
      "execution_count": null,
      "outputs": []
    }
  ]
}