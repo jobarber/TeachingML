{
  "nbformat": 4,
  "nbformat_minor": 0,
  "metadata": {
    "colab": {
      "provenance": []
    },
    "kernelspec": {
      "name": "python3",
      "display_name": "Python 3"
    }
  },
  "cells": [
    {
      "cell_type": "markdown",
      "metadata": {
        "id": "IEO9tsDPBEDe"
      },
      "source": [
        "# Explore whether framing is already embedded in GloVe"
      ]
    },
    {
      "cell_type": "code",
      "metadata": {
        "id": "SBFUoFen27Ew"
      },
      "source": [
        "from collections import defaultdict\n",
        "\n",
        "from torchtext.vocab import GloVe"
      ],
      "execution_count": null,
      "outputs": []
    },
    {
      "cell_type": "markdown",
      "metadata": {
        "id": "6-IccSSYBcqh"
      },
      "source": [
        "## Download GloVe (takes 20+ minutes on Google Colab)"
      ]
    },
    {
      "cell_type": "code",
      "metadata": {
        "id": "Qt67VtdN29s2",
        "colab": {
          "base_uri": "https://localhost:8080/",
          "height": 51
        },
        "outputId": "767f2264-a228-494b-f453-51447ea481f7"
      },
      "source": [
        "glove = GloVe()  # defaults to model built on 840 billion words"
      ],
      "execution_count": null,
      "outputs": [
        {
          "output_type": "stream",
          "text": [
            ".vector_cache/glove.840B.300d.zip: 2.18GB [16:54, 2.14MB/s]                            \n",
            "100%|█████████▉| 2195657/2196017 [04:10<00:00, 8827.19it/s]"
          ],
          "name": "stderr"
        }
      ]
    },
    {
      "cell_type": "code",
      "metadata": {
        "id": "qKYJcC3_3ENL",
        "colab": {
          "base_uri": "https://localhost:8080/",
          "height": 34
        },
        "outputId": "30299713-fca9-4366-9458-e632cb476316"
      },
      "source": [
        "glove.vectors.shape  # 2,196,017 vectors, 300 dimensions each"
      ],
      "execution_count": null,
      "outputs": [
        {
          "output_type": "execute_result",
          "data": {
            "text/plain": [
              "torch.Size([2196017, 300])"
            ]
          },
          "metadata": {
            "tags": []
          },
          "execution_count": 6
        }
      ]
    },
    {
      "cell_type": "markdown",
      "metadata": {
        "id": "EINGn_8OBlMk"
      },
      "source": [
        "## Find dot products of all vectors with our terms of choice (not the same as cosine similarity)\n",
        "GloVe (like Word2Vec) vectors are trained specifically to produce the highest dot product for words that co-occur. We can exploit this fact to see if evidence of frame blending occurs with these terms."
      ]
    },
    {
      "cell_type": "code",
      "metadata": {
        "id": "HaTXkRT58RK2"
      },
      "source": [
        "terms = ['purity', 'danger', 'contagion', 'contagious']\n",
        "term_scores = defaultdict(dict)"
      ],
      "execution_count": null,
      "outputs": []
    },
    {
      "cell_type": "code",
      "metadata": {
        "id": "8OOM3-zz8yMq"
      },
      "source": [
        "# find dot product between each term and every other term\n",
        "for term in terms:\n",
        "    term_vector = glove.vectors[glove.stoi[term]]\n",
        "    for i, v in enumerate(glove.vectors):\n",
        "        s = glove.itos[i]\n",
        "        product = v.matmul(term_vector)\n",
        "        term_scores[term][s] = product.item()"
      ],
      "execution_count": null,
      "outputs": []
    },
    {
      "cell_type": "markdown",
      "metadata": {
        "id": "hmdN-XKvD185"
      },
      "source": [
        "## Print out terms that occur most in the context of each term of interest (as evidenced by the vectors of GloVe)."
      ]
    },
    {
      "cell_type": "code",
      "metadata": {
        "id": "Hcs-Aoz8_2KB",
        "colab": {
          "base_uri": "https://localhost:8080/",
          "height": 105
        },
        "outputId": "c65bf73a-aa2f-4fe0-9911-a92fc3454a65"
      },
      "source": [
        "# print out the top 100 terms with the highest dot products for each term of interest\n",
        "# \"contagion\" has a lot of economic or political terms\n",
        "for term in term_scores:\n",
        "    s = sorted(term_scores[term].items(), key=lambda x: x[1], reverse=True)\n",
        "    print(term, '=>', ', '.join(j[0] for j in s[:100]))"
      ],
      "execution_count": null,
      "outputs": [
        {
          "output_type": "stream",
          "text": [
            "purity => purity, holiness, pure, purified, purest, Purity, righteousness, purification, freshness, impurity, clarity, adware/spyware/trojans, pureness, impurities, cleanliness, sincerity, sanctity, gentleness, piety, purer, innocence, fineness, uniformity, truthfulness, hardness, humility, chastity, integrity, faithfulness, fidelity, potency, whiteness, sweetness, devotion, crystalline, wholesomeness, purifying, wholeness, unity, modesty, cleanness, simplicity, purify, godliness, honesty, qualities, radiance, impure, undefiled, perfection, homogeneity, objectivity, eternal, dignity, divine, uprightness, sinless, virtues, sinlessness, spiritual, elegance, holy, oneness, completeness, lightness, meekness, ideals, virtue, morality, sacredness, moral, compassion, adherence, serenity, salvation, tolerance, reverence, harmony, chaste, concentration, authenticity, sanctification, solubility, luster, Reinheitsgebot, Pm22.Com, sensuality, constancy, individuality, decency, sensitivity, softness, ripeness, sterility, unsullied, calmness, obedience, self-sacrifice, rectitude, clearness\n",
            "danger => danger, dangers, dangerous, risks, fear, threat, risk, hazards, peril, consequences, harm, deadly, fears, hazard, threats, risking, imminent, destruction, threatening, suffering, violence, warning, severe, enemy, life-threatening, fatal, avoid, fearful, evil, menace, harmful, crisis, caused, prevent, adverse, causing, hazardous, unsafe, feared, perils, terrorism, catastrophic, vulnerable, terror, potentially, avoiding, tragedy, dangerously, anxiety, escape, caution, cause, sudden, uncertainty, warnings, despair, preventing, distress, death, accidents, serious, perilous, threatened, safety, possibility, inevitable, darkness, panic, moral, truth, lethal, catastrophe, dire, impending, toxic, frightening, injury, temptation, suspicion, violent, obstacles, precautions, confusion, humans, anger, reckless, warned, warn, ignorance, situation, disaster, suffer, fearing, paranoia, disasters, afraid, humanity, ElectronicAppraiser, illness, deception\n",
            "contagion => contagion, eurozone, sovereign-debt, euro-zone, pandemic, epidemics, deleveraging, Eurozone, illiquidity, spillovers, deflationary, PIIGS, epidemic, inflationary, PPSP, crisis, outbreak, contagions, Contagion, 17-nation, crises, human-to-human, debt-crisis, contagious, zoonotic, foot-and-mouth, spillover, Grexit, hyperinflation, outbreaks, euro-area, liquidity, cholera, pandemics, de-leveraging, deflation, Euro-zone, influenza, unrest, pestilence, volatility, virulent, double-dip, instability, retraumatization, over-indebtedness, safe-haven, H5N1, chikungunya, threat.More, superbug, debt-stricken, eurobonds, systemic, spill-over, austerity, devaluation, macroeconomic, transmissible, sub-prime, turmoil, macro-prudential, subprime, economies, typhus, stagflation, virus, stumblingblock, mosquito-borne, vector-borne, communicable, recapitalise, plague, Imikimi.com, healthWeather, zoonoses, phylloxera, germs, fears, mad-cow, pessimism, infection, flu, 17-country, sovereign, person-to-person, malaise, smallpox, SARS, sexually-transmitted, destabilizing, too-big-to-fail, knock-on, zoonosis, inflation, uncertainty, exacerbating, malinvestment, pathogens, hyper-inflation\n",
            "contagious => contagious, infectious, contageous, infection, infections, herpes, flu, outbreaks, influenza, disease, measles, diseases, fever, bronchitis, communicable, chickenpox, ringworm, virus, pox, rabies, infected, outbreak, germs, distemper, mononucleosis, staph, strep, transmissible, illnesses, colds, incurable, virulent, scabies, viral, meningitis, Contagious, vaccinated, epidemic, syphilis, viruses, pneumonia, bacteria, zoonotic, mumps, conjunctivitis, sores, contagiously, tuberculosis, vaccine, illness, Herpes, smallpox, fevers, rashes, diarrhea, typhoid, warts, sneezing, impetigo, pandemic, missA, epidemics, dengue, infect, pertussis, gonorrhea, pathogens, symptoms, vaccination, non-contagious, contagion, mrsa, venereal, mosquito-borne, sinusitis, polio, hepatitis, typhus, cholera, malaria, gastroenteritis, know.Stay, encephalitis, bacterium, swine, chlamydia, treatable, vaccines, MRSA, infective, vaccine-preventable, bacterial, STDs, H1N1, fungal, zoster, flu-like, coughing, eczema, fungus\n"
          ],
          "name": "stdout"
        }
      ]
    },
    {
      "cell_type": "code",
      "metadata": {
        "id": "CRWv9Tq8AnsI"
      },
      "source": [],
      "execution_count": null,
      "outputs": []
    }
  ]
}