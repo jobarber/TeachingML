{
  "nbformat": 4,
  "nbformat_minor": 0,
  "metadata": {
    "colab": {
      "provenance": []
    },
    "kernelspec": {
      "name": "python3",
      "display_name": "Python 3"
    },
    "language_info": {
      "name": "python"
    }
  },
  "cells": [
    {
      "cell_type": "code",
      "metadata": {
        "id": "ElXd__5VDmr_"
      },
      "source": [
        "from pprint import pformat\n",
        "import numpy as np\n",
        "import pandas as pd\n",
        "from sklearn.metrics import confusion_matrix"
      ],
      "execution_count": null,
      "outputs": []
    },
    {
      "cell_type": "code",
      "metadata": {
        "id": "aAXx6cP5-vO3"
      },
      "source": [
        "class BinaryMetrics:\n",
        "\n",
        "    def __init__(self, attribute_ys, favorable_outcome=1):\n",
        "        \"\"\"\n",
        "        Parameters\n",
        "        ----------\n",
        "        attribute_ys - (dict) {\n",
        "            '<sensitive attr A>': {'y_true': y_true_A, 'y_pred': y_pred_A},\n",
        "            '<sensitive attr B>': {'y_true': y_true_B, 'y_pred': y_pred_B}\n",
        "            }\n",
        "\n",
        "        -----------\n",
        "        | TN | FP |\n",
        "        -----------\n",
        "        | FN | TP |\n",
        "        -----------\n",
        "        \"\"\"\n",
        "        self.attribute_ys = attribute_ys\n",
        "        self.labels, y_trues, y_preds = [], [], []\n",
        "        self.label_counts = dict()\n",
        "        for label, ys in attribute_ys.items():\n",
        "            self.labels.append(label)\n",
        "            y_trues.append(ys['y_true'])\n",
        "            y_preds.append(ys['y_pred'])\n",
        "            self.label_counts[label] = ys['y_true'].shape[0]\n",
        "\n",
        "        # confusion_matrix(y_true, y_pred) will return wrong dims if all `0`s or all `1`s\n",
        "        class_confusion_matrices = []\n",
        "        for y_true, y_pred in zip(y_trues, y_preds):\n",
        "            if np.all(y_true == 0) and np.all(y_pred == 0):\n",
        "                class_confusion_matrices.append(np.array([[y_true.size, 0], [0, 0]]))\n",
        "            elif np.all(y_true == 1) and np.all(y_pred == 1):\n",
        "                class_confusion_matrices.append(np.array([[0, 0], [0, y_true.size]]))\n",
        "            else:\n",
        "                class_confusion_matrices.append(confusion_matrix(y_true, y_pred))\n",
        "\n",
        "        self.TNs = np.array([cm[0, 0] for cm in class_confusion_matrices])\n",
        "        self.FPs = np.array([cm[0, 1] for cm in class_confusion_matrices])\n",
        "        self.FNs = np.array([cm[1, 0] for cm in class_confusion_matrices])\n",
        "        self.TPs = np.array([cm[1, 1] for cm in class_confusion_matrices])\n",
        "        self.actual_positives = self.TPs + self.FNs\n",
        "        self.support = sum(self.actual_positives)\n",
        "        self.actual_negatives = self.TNs + self.FPs\n",
        "        self.favorable_outcome = favorable_outcome\n",
        "\n",
        "    @property\n",
        "    def base_rates(self):\n",
        "        metric = self.actual_positives / (self.actual_positives + self.actual_negatives)\n",
        "        return dict(zip(self.labels, metric), support=self.support)\n",
        "\n",
        "    @property\n",
        "    def positive_rates(self):\n",
        "        metric = (self.TPs + self.FPs) / (self.actual_positives + self.actual_negatives)\n",
        "        return dict(zip(self.labels, metric), support=self.support)\n",
        "\n",
        "    @property\n",
        "    def negative_rates(self):\n",
        "        metric = (self.TNs + self.FNs) / (self.actual_positives + self.actual_negatives)\n",
        "        return dict(zip(self.labels, metric), support=self.support)\n",
        "\n",
        "    @property\n",
        "    def accuracies(self):\n",
        "        metric = (self.TPs + self.TNs) / (self.actual_positives + self.actual_negatives)\n",
        "        return dict(zip(self.labels, metric), support=self.support)\n",
        "\n",
        "    @property\n",
        "    def misclassification_rates(self):\n",
        "        metric = (self.FNs + self.FPs) / (self.actual_positives + self.actual_negatives)\n",
        "        return dict(zip(self.labels, metric), support=self.support)\n",
        "\n",
        "    @property\n",
        "    def true_positive_rates(self):\n",
        "        \"\"\"\n",
        "        Also known as sensitivity, recall, or hit rate.\n",
        "        \"\"\"\n",
        "        metric = self.TPs / self.actual_positives\n",
        "        return dict(zip(self.labels, metric), support=self.support)\n",
        "\n",
        "    @property\n",
        "    def true_negative_rates(self):\n",
        "        \"\"\"\n",
        "        Also known as specificity or selectivity.\n",
        "        \"\"\"\n",
        "        metric = self.TNs / self.actual_negatives\n",
        "        return dict(zip(self.labels, metric), support=self.support)\n",
        "\n",
        "    @property\n",
        "    def false_positive_rates(self):\n",
        "        \"\"\"\n",
        "        Also known as fall-out.\n",
        "        \"\"\"\n",
        "        metric = self.FPs / self.actual_negatives\n",
        "        return dict(zip(self.labels, metric), support=self.support)\n",
        "\n",
        "    @property\n",
        "    def false_negative_rates(self):\n",
        "        \"\"\"\n",
        "        Also known as miss rate.\n",
        "        \"\"\"\n",
        "        metric = self.FNs / self.actual_positives\n",
        "        return dict(zip(self.labels, metric), support=self.support)\n",
        "\n",
        "    @property\n",
        "    def false_discovery_rates(self):\n",
        "        metric = self.FPs / (self.TPs + self.FPs)\n",
        "        return dict(zip(self.labels, metric), support=self.support)\n",
        "\n",
        "    @property\n",
        "    def positive_predictive_values(self):\n",
        "        \"\"\"\n",
        "        Also known as precision.\n",
        "        \"\"\"\n",
        "        metric = self.TPs / (self.TPs + self.FPs)\n",
        "        return dict(zip(self.labels, metric), support=self.support)\n",
        "\n",
        "    @property\n",
        "    def false_omission_rates(self):\n",
        "        metric = self.FNs / (self.TNs + self.FNs)\n",
        "        return dict(zip(self.labels, metric), support=self.support)\n",
        "\n",
        "    @property\n",
        "    def negative_predictive_values(self):\n",
        "        metric = self.TNs / (self.TNs + self.FNs)\n",
        "        return dict(zip(self.labels, metric), support=self.support)\n",
        "\n",
        "    @property\n",
        "    def demographic_parity(self):\n",
        "        if self.favorable_outcome == 1:\n",
        "            return self.positive_rates\n",
        "        return self.negative_rates\n",
        "\n",
        "    def conditional_statistical_parity(self, legitimate_factors):\n",
        "        \"\"\"\n",
        "        Parameters\n",
        "        ----------\n",
        "        legitimate_factors - (dict) {\n",
        "            '<sensitive attr A>': sample_legitimate_factors_for_A,  # (num_samples,) array\n",
        "            '<sensitive attr B>': sample_legitimate_factors_for_B   # (num_samples,) array\n",
        "            }\n",
        "        \"\"\"\n",
        "        attribute_ys = dict(**self.attribute_ys)\n",
        "        for sens_attr in attribute_ys:\n",
        "            attribute_ys[sens_attr]['y_true'] = attribute_ys[sens_attr]['y_true'][np.where(legitimate_factors[sens_attr] == 1)[0]]\n",
        "            attribute_ys[sens_attr]['y_pred'] = attribute_ys[sens_attr]['y_pred'][np.where(legitimate_factors[sens_attr] == 1)[0]]\n",
        "        bm = BinaryMetrics(attribute_ys, favorable_outcome=self.favorable_outcome)\n",
        "        dp = bm.demographic_parity\n",
        "        metric = np.array([dp[label] for label in self.labels])\n",
        "        return dict(zip(bm.labels, metric), support=bm.support)\n",
        "\n",
        "    @property\n",
        "    def equal_selection_parity(self):\n",
        "        metric = (self.TPs + self.FPs) if self.favorable_outcome == 1 else (self.TNs + self.FNs)\n",
        "        return dict(zip(self.labels, metric), support=self.support)\n",
        "\n",
        "    @property\n",
        "    def conditional_use_accuracy_equality(self):\n",
        "        npv, ppv = self.negative_predictive_values, self.positive_predictive_values\n",
        "        metric = np.array([[npv[label] for label in self.labels],\n",
        "                           [ppv[label] for label in self.labels]])\n",
        "        result = dict(zip(self.labels, metric.T))\n",
        "        result = {k: {'NPV': v[0], 'PPV': v[1]} for k, v in result.items()}\n",
        "        result.update({'support': self.support})\n",
        "        return result\n",
        "\n",
        "    @property\n",
        "    def predictive_parity(self):\n",
        "        return self.positive_predictive_values\n",
        "\n",
        "    @property\n",
        "    def calibration(self):\n",
        "        for_, fdr = self.false_omission_rates, self.false_discovery_rates\n",
        "        metric = np.array([[for_[label] for label in self.labels],\n",
        "                           [fdr[label] for label in self.labels]])\n",
        "        result = dict(zip(self.labels, metric.T))\n",
        "        result = {k: {'FOR': v[0], 'FDR': v[1]} for k, v in result.items()}\n",
        "        result.update({'support': self.support})\n",
        "        return result\n",
        "\n",
        "    @property\n",
        "    def equalized_odds(self):\n",
        "        tnr, tpr = self.true_negative_rates, self.true_positive_rates\n",
        "        metric = np.array([[tnr[label] for label in self.labels],\n",
        "                           [tpr[label] for label in self.labels]])\n",
        "        result = dict(zip(self.labels, metric.T))\n",
        "        result = {k: {'TNR': v[0], 'TPR': v[1]} for k, v in result.items()}\n",
        "        result.update({'support': self.support})\n",
        "        return result\n",
        "\n",
        "    @property\n",
        "    def equalized_opportunities(self):\n",
        "        return self.true_positive_rates if self.favorable_outcome == 1 else self.true_negative_rates\n",
        "\n",
        "    @property\n",
        "    def predictive_equality(self):\n",
        "        return self.true_positive_rates if self.favorable_outcome == 0 else self.true_negative_rates\n",
        "\n",
        "    def __repr__(self):\n",
        "        elements = []\n",
        "        elements.append(' - '.join(str(label) for label in self.labels))\n",
        "        for attr in dir(self):\n",
        "            if attr.startswith('__'):\n",
        "                continue\n",
        "            element = getattr(self, attr)\n",
        "            if isinstance(element, dict):\n",
        "                elements.append(attr.upper())\n",
        "                elements.append(element)\n",
        "        return pformat(elements, indent=4)"
      ],
      "execution_count": null,
      "outputs": []
    },
    {
      "cell_type": "code",
      "metadata": {
        "id": "j0HwrYKnfSUk"
      },
      "source": [
        "class MultiClassBinaryMetrics:\n",
        "\n",
        "    def __init__(self, attribute_ys, favorable_outcome=1, class_labels=None):\n",
        "        \"\"\"\n",
        "        Parameters\n",
        "        ----------\n",
        "        attribute_ys - (dict) {\n",
        "            '<sensitive attr A>': {'y_true': y_true_As, 'y_pred': y_pred_As},\n",
        "            '<sensitive attr B>': {'y_true': y_true_Bs, 'y_pred': y_pred_Bs}\n",
        "        }\n",
        "        \"\"\"\n",
        "        num_classes = list(attribute_ys.items())[0][1]['y_true'].shape[1]\n",
        "        self.class_labels = list(range(num_classes)) if class_labels is None else class_labels\n",
        "        self.multiclass_binary_metrics = dict()\n",
        "        for col_index in range(num_classes):\n",
        "            attrib_ys = dict()\n",
        "            for attribute in attribute_ys:\n",
        "                y_true = attribute_ys[attribute]['y_true'][:, col_index].flatten()\n",
        "                y_pred = attribute_ys[attribute]['y_pred'][:, col_index].flatten()\n",
        "                attrib_ys[attribute] = {'y_true': y_true, 'y_pred': y_pred}\n",
        "            binary_metrics = BinaryMetrics(attrib_ys,\n",
        "                                           favorable_outcome=favorable_outcome)\n",
        "            self.multiclass_binary_metrics[self.class_labels[col_index]] = binary_metrics\n",
        "\n",
        "    def __getattr__(self, attr):\n",
        "        data = []\n",
        "        for label in self.class_labels:\n",
        "            row = getattr(self.multiclass_binary_metrics[label], attr)\n",
        "            row['label'] = label\n",
        "            data.append(row)\n",
        "        return pd.DataFrame(data).set_index('label')"
      ],
      "execution_count": null,
      "outputs": []
    },
    {
      "cell_type": "code",
      "metadata": {
        "colab": {
          "base_uri": "https://localhost:8080/",
          "height": 198
        },
        "id": "TBnBm7fq_fLi",
        "outputId": "351ae416-0206-49f9-8a5e-ae609e6ad3b8"
      },
      "source": [
        "df = pd.DataFrame(dict(a=[2, 4, 3, 5, 4], b=[3, 2, 4, 3, 4]))\n",
        "df"
      ],
      "execution_count": null,
      "outputs": [
        {
          "output_type": "execute_result",
          "data": {
            "text/html": [
              "<div>\n",
              "<style scoped>\n",
              "    .dataframe tbody tr th:only-of-type {\n",
              "        vertical-align: middle;\n",
              "    }\n",
              "\n",
              "    .dataframe tbody tr th {\n",
              "        vertical-align: top;\n",
              "    }\n",
              "\n",
              "    .dataframe thead th {\n",
              "        text-align: right;\n",
              "    }\n",
              "</style>\n",
              "<table border=\"1\" class=\"dataframe\">\n",
              "  <thead>\n",
              "    <tr style=\"text-align: right;\">\n",
              "      <th></th>\n",
              "      <th>a</th>\n",
              "      <th>b</th>\n",
              "    </tr>\n",
              "  </thead>\n",
              "  <tbody>\n",
              "    <tr>\n",
              "      <th>0</th>\n",
              "      <td>2</td>\n",
              "      <td>3</td>\n",
              "    </tr>\n",
              "    <tr>\n",
              "      <th>1</th>\n",
              "      <td>4</td>\n",
              "      <td>2</td>\n",
              "    </tr>\n",
              "    <tr>\n",
              "      <th>2</th>\n",
              "      <td>3</td>\n",
              "      <td>4</td>\n",
              "    </tr>\n",
              "    <tr>\n",
              "      <th>3</th>\n",
              "      <td>5</td>\n",
              "      <td>3</td>\n",
              "    </tr>\n",
              "    <tr>\n",
              "      <th>4</th>\n",
              "      <td>4</td>\n",
              "      <td>4</td>\n",
              "    </tr>\n",
              "  </tbody>\n",
              "</table>\n",
              "</div>"
            ],
            "text/plain": [
              "   a  b\n",
              "0  2  3\n",
              "1  4  2\n",
              "2  3  4\n",
              "3  5  3\n",
              "4  4  4"
            ]
          },
          "metadata": {
            "tags": []
          },
          "execution_count": 40
        }
      ]
    },
    {
      "cell_type": "code",
      "metadata": {
        "colab": {
          "base_uri": "https://localhost:8080/"
        },
        "id": "TaazXvym_qGh",
        "outputId": "80affd1d-3be2-4095-a3f7-12a245536868"
      },
      "source": [
        "df['a'].value_counts()[df['a'].value_counts() > 1].index.values"
      ],
      "execution_count": null,
      "outputs": [
        {
          "output_type": "execute_result",
          "data": {
            "text/plain": [
              "array([4])"
            ]
          },
          "metadata": {
            "tags": []
          },
          "execution_count": 54
        }
      ]
    },
    {
      "cell_type": "code",
      "metadata": {
        "id": "EKN44XLVlhX_"
      },
      "source": [
        "bm = BinaryMetrics({\n",
        "            '<sensitive attr A>': {'y_true': np.array([1, 1, 0, 0, 1]), 'y_pred': np.array([1, 1, 0, 1, 1])},\n",
        "            '<sensitive attr B>': {'y_true': np.array([1, 1, 1]), 'y_pred': np.array([1, 0, 0])}\n",
        "            })"
      ],
      "execution_count": null,
      "outputs": []
    },
    {
      "cell_type": "code",
      "metadata": {
        "colab": {
          "base_uri": "https://localhost:8080/"
        },
        "id": "bkkQ01aWl3pn",
        "outputId": "192654dc-c7c8-4b70-c014-3c20b7f0f260"
      },
      "source": [
        "bm.conditional_statistical_parity({\n",
        "            '<sensitive attr A>': np.array([1, 0, 0, 0, 1]),  # (num_samples,) array\n",
        "            '<sensitive attr B>': np.array([1, 0, 1])   # (num_samples,) array\n",
        "            }), bm.demographic_parity"
      ],
      "execution_count": null,
      "outputs": [
        {
          "output_type": "execute_result",
          "data": {
            "text/plain": [
              "({'<sensitive attr A>': 1.0, '<sensitive attr B>': 0.5, 'support': 4},\n",
              " {'<sensitive attr A>': 0.8,\n",
              "  '<sensitive attr B>': 0.3333333333333333,\n",
              "  'support': 6})"
            ]
          },
          "metadata": {
            "tags": []
          },
          "execution_count": 39
        }
      ]
    },
    {
      "cell_type": "code",
      "metadata": {
        "colab": {
          "base_uri": "https://localhost:8080/"
        },
        "id": "kdUHhxsattC7",
        "outputId": "a0e9231c-ba59-4f79-9b32-cd24e6af5968"
      },
      "source": [
        "bm.calibration"
      ],
      "execution_count": null,
      "outputs": [
        {
          "output_type": "stream",
          "text": [
            "/usr/local/lib/python3.7/dist-packages/ipykernel_launcher.py:117: RuntimeWarning: invalid value encountered in true_divide\n"
          ],
          "name": "stderr"
        },
        {
          "output_type": "execute_result",
          "data": {
            "text/plain": [
              "{'<sensitive attr A>': {'FDR': 0.4, 'FOR': nan},\n",
              " '<sensitive attr B>': {'FDR': 0.0, 'FOR': 1.0},\n",
              " 'support': 6}"
            ]
          },
          "metadata": {
            "tags": []
          },
          "execution_count": 13
        }
      ]
    },
    {
      "cell_type": "code",
      "metadata": {
        "id": "1nRqSeG6xI34"
      },
      "source": [
        "def balance(*probability_score_matrices, balance_for=1):\n",
        "    return np.stack([np.mean(psm[:, balance_for]) for psm in probability_score_matrices], axis=0)"
      ],
      "execution_count": null,
      "outputs": []
    },
    {
      "cell_type": "code",
      "metadata": {
        "id": "C_Vd37Y5A837"
      },
      "source": [
        "attribute_ys = {\n",
        "            'male': {'y_true': np.array([0, 1, 1, 0, 0, 1]), 'y_pred': np.array([0, 1, 1, 0, 0, 1])},\n",
        "            'female': {'y_true': np.array([1, 1, 1, 0]), 'y_pred': np.array([1, 1, 1, 0])},\n",
        "            'other': {'y_true': np.array([1, 1, 1, 0]), 'y_pred': np.array([0, 1, 1, 0])}\n",
        "            }"
      ],
      "execution_count": null,
      "outputs": []
    },
    {
      "cell_type": "code",
      "metadata": {
        "id": "PJZ8ezg7GwBp"
      },
      "source": [
        "bmf = BinaryMetrics(attribute_ys=attribute_ys)"
      ],
      "execution_count": null,
      "outputs": []
    },
    {
      "cell_type": "code",
      "metadata": {
        "colab": {
          "base_uri": "https://localhost:8080/"
        },
        "id": "AaNrMwaTE00F",
        "outputId": "87b0e53f-f365-4c5d-b3b2-cffaaed3f249"
      },
      "source": [
        "bmf"
      ],
      "execution_count": null,
      "outputs": [
        {
          "output_type": "stream",
          "text": [
            "[0.57142857 0.71428571 0.71428571]\n"
          ],
          "name": "stdout"
        },
        {
          "output_type": "execute_result",
          "data": {
            "text/plain": [
              "[   'male - female - other',\n",
              "    'ACCURACIES',\n",
              "    {'female': 1.0, 'male': 1.0, 'other': 0.75},\n",
              "    'BASE_RATES',\n",
              "    {'female': 0.75, 'male': 0.5, 'other': 0.75},\n",
              "    'CALIBRATION',\n",
              "    {   'female': {'FDR': 0.0, 'FOR': 0.0},\n",
              "        'male': {'FDR': 0.0, 'FOR': 0.0},\n",
              "        'other': {'FDR': 0.0, 'FOR': 0.5}},\n",
              "    'CONDITIONAL_STATISTICAL_PARITY',\n",
              "    {   'female': 0.5357142857142857,\n",
              "        'male': 0.2857142857142857,\n",
              "        'other': 0.35714285714285715},\n",
              "    'CONDITIONAL_USE_ACCURACY_EQUALITY',\n",
              "    {   'female': {'NPV': 1.0, 'PPV': 1.0},\n",
              "        'male': {'NPV': 1.0, 'PPV': 1.0},\n",
              "        'other': {'NPV': 0.5, 'PPV': 1.0}},\n",
              "    'DEMOGRAPHIC_PARITY',\n",
              "    {'female': 0.75, 'male': 0.5, 'other': 0.5},\n",
              "    'EQUAL_SELECTION_PARITY',\n",
              "    {'female': 3, 'male': 3, 'other': 2},\n",
              "    'EQUALIZED_ODDS',\n",
              "    {   'female': {'TNR': 1.0, 'TPR': 1.0},\n",
              "        'male': {'TNR': 1.0, 'TPR': 1.0},\n",
              "        'other': {'TNR': 1.0, 'TPR': 0.6666666666666666}},\n",
              "    'EQUALIZED_OPPORTUNITIES',\n",
              "    {'female': 1.0, 'male': 1.0, 'other': 0.6666666666666666},\n",
              "    'FALSE_DISCOVERY_RATES',\n",
              "    {'female': 0.0, 'male': 0.0, 'other': 0.0},\n",
              "    'FALSE_NEGATIVE_RATES',\n",
              "    {'female': 0.0, 'male': 0.0, 'other': 0.3333333333333333},\n",
              "    'FALSE_OMISSION_RATES',\n",
              "    {'female': 0.0, 'male': 0.0, 'other': 0.5},\n",
              "    'FALSE_POSITIVE_RATES',\n",
              "    {'female': 0.0, 'male': 0.0, 'other': 0.0},\n",
              "    'LABEL_COUNTS',\n",
              "    {'female': 4, 'male': 6, 'other': 4},\n",
              "    'MISCLASSIFICATION_RATES',\n",
              "    {'female': 0.0, 'male': 0.0, 'other': 0.25},\n",
              "    'NEGATIVE_PREDICTIVE_VALUES',\n",
              "    {'female': 1.0, 'male': 1.0, 'other': 0.5},\n",
              "    'NEGATIVE_RATES',\n",
              "    {'female': 0.25, 'male': 0.5, 'other': 0.5},\n",
              "    'POSITIVE_PREDICTIVE_VALUES',\n",
              "    {'female': 1.0, 'male': 1.0, 'other': 1.0},\n",
              "    'POSITIVE_RATES',\n",
              "    {'female': 0.75, 'male': 0.5, 'other': 0.5},\n",
              "    'PREDICTIVE_EQUALITY',\n",
              "    {'female': 1.0, 'male': 1.0, 'other': 1.0},\n",
              "    'PREDICTIVE_PARITY',\n",
              "    {'female': 1.0, 'male': 1.0, 'other': 1.0},\n",
              "    'TRUE_NEGATIVE_RATES',\n",
              "    {'female': 1.0, 'male': 1.0, 'other': 1.0},\n",
              "    'TRUE_POSITIVE_RATES',\n",
              "    {'female': 1.0, 'male': 1.0, 'other': 0.6666666666666666}]"
            ]
          },
          "metadata": {
            "tags": []
          },
          "execution_count": 285
        }
      ]
    },
    {
      "cell_type": "code",
      "metadata": {
        "id": "2ugjdDE7BtSX"
      },
      "source": [
        "attribute_ys = {\n",
        "            'male': {'y_true': np.array([[0, 1, 1],\n",
        "                                         [0, 0, 1],\n",
        "                                         [1, 1, 1],\n",
        "                                         [0, 1, 0]]),\n",
        "                     'y_pred': np.array([[0, 0, 1],\n",
        "                                         [1, 0, 1],\n",
        "                                         [1, 1, 1],\n",
        "                                         [0, 1, 1]])},\n",
        "            'female': {'y_true': np.array([[0, 1, 0],\n",
        "                                           [0, 0, 0],\n",
        "                                           [1, 1, 0]]),\n",
        "                       'y_pred': np.array([[1, 0, 0],\n",
        "                                           [1, 0, 0],\n",
        "                                           [1, 0, 0]])},\n",
        "            'other': {'y_true': np.array([[1, 1, 1],\n",
        "                                          [0, 0, 0]]),\n",
        "                      'y_pred': np.array([[1, 0, 0],\n",
        "                                          [1, 1, 0]])}\n",
        "            }"
      ],
      "execution_count": null,
      "outputs": []
    },
    {
      "cell_type": "code",
      "metadata": {
        "id": "xvBcUlyK6oK4"
      },
      "source": [
        "multiclass_binary_metrics = MultiClassBinaryMetrics(attribute_ys)"
      ],
      "execution_count": null,
      "outputs": []
    },
    {
      "cell_type": "code",
      "metadata": {
        "id": "9kj6zyNurwgk",
        "colab": {
          "base_uri": "https://localhost:8080/",
          "height": 168
        },
        "outputId": "963e5141-99cd-4ef7-e926-cc8bcabe9977"
      },
      "source": [
        "multiclass_binary_metrics.predictive_equality"
      ],
      "execution_count": null,
      "outputs": [
        {
          "output_type": "execute_result",
          "data": {
            "text/html": [
              "<div>\n",
              "<style scoped>\n",
              "    .dataframe tbody tr th:only-of-type {\n",
              "        vertical-align: middle;\n",
              "    }\n",
              "\n",
              "    .dataframe tbody tr th {\n",
              "        vertical-align: top;\n",
              "    }\n",
              "\n",
              "    .dataframe thead th {\n",
              "        text-align: right;\n",
              "    }\n",
              "</style>\n",
              "<table border=\"1\" class=\"dataframe\">\n",
              "  <thead>\n",
              "    <tr style=\"text-align: right;\">\n",
              "      <th></th>\n",
              "      <th>male</th>\n",
              "      <th>female</th>\n",
              "      <th>other</th>\n",
              "    </tr>\n",
              "    <tr>\n",
              "      <th>label</th>\n",
              "      <th></th>\n",
              "      <th></th>\n",
              "      <th></th>\n",
              "    </tr>\n",
              "  </thead>\n",
              "  <tbody>\n",
              "    <tr>\n",
              "      <th>0</th>\n",
              "      <td>0.666667</td>\n",
              "      <td>0.0</td>\n",
              "      <td>0.0</td>\n",
              "    </tr>\n",
              "    <tr>\n",
              "      <th>1</th>\n",
              "      <td>1.000000</td>\n",
              "      <td>1.0</td>\n",
              "      <td>0.0</td>\n",
              "    </tr>\n",
              "    <tr>\n",
              "      <th>2</th>\n",
              "      <td>0.000000</td>\n",
              "      <td>1.0</td>\n",
              "      <td>1.0</td>\n",
              "    </tr>\n",
              "  </tbody>\n",
              "</table>\n",
              "</div>"
            ],
            "text/plain": [
              "           male  female  other\n",
              "label                         \n",
              "0      0.666667     0.0    0.0\n",
              "1      1.000000     1.0    0.0\n",
              "2      0.000000     1.0    1.0"
            ]
          },
          "metadata": {
            "tags": []
          },
          "execution_count": 288
        }
      ]
    },
    {
      "cell_type": "code",
      "metadata": {
        "id": "m462KPFvfQnu"
      },
      "source": [
        "multiclass_binary_metrics"
      ],
      "execution_count": null,
      "outputs": []
    },
    {
      "cell_type": "code",
      "metadata": {
        "id": "kr2CS9FHnx9v",
        "colab": {
          "base_uri": "https://localhost:8080/"
        },
        "outputId": "b43d62e6-741a-40c3-952f-d64160513192"
      },
      "source": [
        "dict(zip([1, 2, 3], [4, 5, 6]), support=1)"
      ],
      "execution_count": null,
      "outputs": [
        {
          "output_type": "execute_result",
          "data": {
            "text/plain": [
              "{1: 4, 2: 5, 3: 6, 'support': 1}"
            ]
          },
          "metadata": {
            "tags": []
          },
          "execution_count": 2
        }
      ]
    },
    {
      "cell_type": "code",
      "metadata": {
        "id": "QTcrrlmBqxLa"
      },
      "source": [],
      "execution_count": null,
      "outputs": []
    }
  ]
}