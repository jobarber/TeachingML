{
  "nbformat": 4,
  "nbformat_minor": 0,
  "metadata": {
    "colab": {
      "provenance": []
    },
    "kernelspec": {
      "name": "python3",
      "display_name": "Python 3"
    }
  },
  "cells": [
    {
      "cell_type": "markdown",
      "metadata": {
        "id": "dHMvRb5l6DPI"
      },
      "source": [
        "# Generate Verbal Metaphors for a Given Sentence\n",
        "An attempt to improve upong this paper:\n",
        "https://arxiv.org/pdf/2002.12854.pdf"
      ]
    },
    {
      "cell_type": "markdown",
      "metadata": {
        "id": "dOcWsgKD6WDF"
      },
      "source": [
        "##Set-up"
      ]
    },
    {
      "cell_type": "code",
      "metadata": {
        "id": "u4jECE6kvUAq"
      },
      "source": [
        "%%capture\n",
        "!pip install transformers\n",
        "!pip install nltk"
      ],
      "execution_count": null,
      "outputs": []
    },
    {
      "cell_type": "code",
      "metadata": {
        "id": "9-dpEWZ1vZAq"
      },
      "source": [
        "import nltk\n",
        "import spacy\n",
        "from transformers import pipeline"
      ],
      "execution_count": null,
      "outputs": []
    },
    {
      "cell_type": "code",
      "metadata": {
        "id": "tTRGIW8hw6l-"
      },
      "source": [
        "%%capture\n",
        "nltk.download('wordnet')\n",
        "nlp = spacy.load(\"en_core_web_sm\")"
      ],
      "execution_count": null,
      "outputs": []
    },
    {
      "cell_type": "code",
      "metadata": {
        "id": "0L35R2V9xB7A"
      },
      "source": [
        "from nltk.corpus import wordnet as wn"
      ],
      "execution_count": null,
      "outputs": []
    },
    {
      "cell_type": "code",
      "metadata": {
        "id": "o9iKMHUhvtBt",
        "outputId": "353bf54a-5f85-4d1b-db18-a086763e4cae",
        "colab": {
          "base_uri": "https://localhost:8080/"
        }
      },
      "source": [
        "%%capture\n",
        "classifier = pipeline('fill-mask', topk=300)"
      ],
      "execution_count": null,
      "outputs": [
        {
          "output_type": "stream",
          "text": [
            "Some weights of RobertaForMaskedLM were not initialized from the model checkpoint at distilroberta-base and are newly initialized: ['lm_head.decoder.bias']\n",
            "You should probably TRAIN this model on a down-stream task to be able to use it for predictions and inference.\n"
          ],
          "name": "stderr"
        }
      ]
    },
    {
      "cell_type": "markdown",
      "metadata": {
        "id": "-mLKH8GK6aRa"
      },
      "source": [
        "## A Function to Find Verbal Metaphors for a Given Sentence\n",
        "Pretty messy right now. I'll clean up when I get a chance outside of colab. No time today."
      ]
    },
    {
      "cell_type": "code",
      "metadata": {
        "id": "mYWNxlsOv72m"
      },
      "source": [
        "def find_verbal_metaphors(sentence, model_new_word_token='Ġ', n=5):\n",
        "    \n",
        "    # find root verb if it exists\n",
        "    root_verbs = [token.text for token in nlp(sentence) if token.dep_ == 'ROOT' and token.pos_ == 'VERB']\n",
        "    if not root_verbs:\n",
        "        print('No matching root verbs found.')\n",
        "        return None\n",
        "    root_verb = root_verbs[0]\n",
        "\n",
        "    # have bert fill the mask of the root verb (TODO: what if multiple root verbs?)\n",
        "    results = classifier(sentence.replace(root_verb, '<mask>'))\n",
        "    tokens = [result['token_str'][len(model_new_word_token):] for result in results if result['token_str'].startswith(model_new_word_token)]\n",
        "\n",
        "    # find all possible synsets for each results token that might fill the mask\n",
        "    possibilities = []\n",
        "    synset_to_form = {}\n",
        "    for token in tokens:\n",
        "        for token_ss in wn.synsets(token):\n",
        "            if token_ss.pos() == 'v':\n",
        "                possibilities.append(token_ss)\n",
        "                synset_to_form[token_ss] = token  # duplicates possible here! TODO: fix!\n",
        "    possible_ss_indices = {v: k for k, v in enumerate(possibilities)}\n",
        "\n",
        "    # find most likely metaphors and return sentence with sorted choices\n",
        "    metaphor_indices = {}\n",
        "    root_verb_synsets = [ss for ss in wn.synsets(root_verb) if ss.pos() == 'v']\n",
        "    c = 0\n",
        "    for ss in root_verb_synsets:\n",
        "        for hn_ss in ss.hyponyms():\n",
        "            if hn_ss in possible_ss_indices:\n",
        "                metaphor_indices[synset_to_form[hn_ss]] = c\n",
        "                c += 1\n",
        "            # recurse once\n",
        "            for subhn_ss in hn_ss.hyponyms():\n",
        "                if subhn_ss in possible_ss_indices:\n",
        "                    metaphor_indices[synset_to_form[subhn_ss]] = c\n",
        "                    c += 1\n",
        "    metaphors = [m[0] for m in sorted(metaphor_indices.items(), key=lambda x: x[1])[:n]]\n",
        "    return sentence.replace(root_verb, '[' + '/'.join(metaphors) + ']', 1)"
      ],
      "execution_count": null,
      "outputs": []
    },
    {
      "cell_type": "markdown",
      "metadata": {
        "id": "7C_9RIky6lwf"
      },
      "source": [
        "## Test the Function: Generate Some Verbal Metaphors"
      ]
    },
    {
      "cell_type": "code",
      "metadata": {
        "id": "xeAyfGZCwMsf",
        "outputId": "e758b11f-11b9-4ed8-fedc-411c7d371113",
        "colab": {
          "base_uri": "https://localhost:8080/"
        }
      },
      "source": [
        "sentences = ['Deer run through the forest with wreckless abandon.',\n",
        "             'Human beings create meaning with language.',\n",
        "             'The economy fails when pandemics hit.']\n",
        "for sentence in sentences:\n",
        "    print('=' * 80)\n",
        "    metaphors = find_verbal_metaphors(sentence)\n",
        "    print(sentence, '\\n  WITH METAPHORS =>', metaphors)"
      ],
      "execution_count": null,
      "outputs": [
        {
          "output_type": "stream",
          "text": [
            "================================================================================\n",
            "Deer run through the forest with wreckless abandon. \n",
            "  WITH METAPHORS => Deer [rushed/sprint/streaks/fly/breaks] through the forest with wreckless abandon.\n",
            "================================================================================\n",
            "Human beings create meaning with language. \n",
            "  WITH METAPHORS => Human beings [compound/confused/regulate/evoke/trace] meaning with language.\n",
            "================================================================================\n",
            "The economy fails when pandemics hit. \n",
            "  WITH METAPHORS => The economy [choked/falls/blew/crashing] when pandemics hit.\n"
          ],
          "name": "stdout"
        }
      ]
    },
    {
      "cell_type": "code",
      "metadata": {
        "id": "7TSRHlgz8Q9c"
      },
      "source": [],
      "execution_count": null,
      "outputs": []
    }
  ]
}